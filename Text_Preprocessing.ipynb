{
  "nbformat": 4,
  "nbformat_minor": 0,
  "metadata": {
    "colab": {
      "provenance": []
    },
    "kernelspec": {
      "name": "python3",
      "display_name": "Python 3"
    },
    "language_info": {
      "name": "python"
    }
  },
  "cells": [
    {
      "cell_type": "markdown",
      "source": [
        "### Defining the corpus"
      ],
      "metadata": {
        "id": "Op0ZdCbIlcYM"
      }
    },
    {
      "cell_type": "code",
      "source": [
        "# This is the raw text we will preprocess. It contains names, email addresses, punctuation, hashtags, and technical terms.\n",
        "corpus= \"\"\"Hello, I am John Doe, a Software Engineer at TechCorp. I specialize in natural language processing (NLP) and artificial intelligence (AI) technologies.\n",
        "Over the past few years, I've worked on several NLP projects, including sentiment analysis, text classification, and named entity recognition (NER).\n",
        "At TechCorp, I manage a team of engineers who build machine learning models for processing large volumes of customer feedback data.\n",
        "Our team has developed a system that analyzes customer sentiment from emails and reviews, which has helped the company improve its services.\n",
        "You can reach me via email at john.doe@techcorp.com for further inquiries. I'm always happy to discuss potential collaborations! #AI #MachineLearning #NLP\"\"\""
      ],
      "metadata": {
        "id": "SAebcqO9eP1R"
      },
      "execution_count": 9,
      "outputs": []
    },
    {
      "cell_type": "code",
      "source": [
        "corpus"
      ],
      "metadata": {
        "colab": {
          "base_uri": "https://localhost:8080/",
          "height": 87
        },
        "id": "gkdAQ2apeuh5",
        "outputId": "33cc9091-b25d-4c57-ac60-10d82348a5ab"
      },
      "execution_count": 32,
      "outputs": [
        {
          "output_type": "execute_result",
          "data": {
            "text/plain": [
              "\"Hello, I am John Doe, a Software Engineer at TechCorp. I specialize in natural language processing (NLP) and artificial intelligence (AI) technologies. \\nOver the past few years, I've worked on several NLP projects, including sentiment analysis, text classification, and named entity recognition (NER). \\nAt TechCorp, I manage a team of engineers who build machine learning models for processing large volumes of customer feedback data. \\nOur team has developed a system that analyzes customer sentiment from emails and reviews, which has helped the company improve its services. \\nYou can reach me via email at john.doe@techcorp.com for further inquiries. I'm always happy to discuss potential collaborations! #AI #MachineLearning #NLP\""
            ],
            "application/vnd.google.colaboratory.intrinsic+json": {
              "type": "string"
            }
          },
          "metadata": {},
          "execution_count": 32
        }
      ]
    },
    {
      "cell_type": "markdown",
      "source": [
        "### Lowering case\n",
        "Lowercasing refers to converting all text in the corpus to lowercase. Lowercasing ensures that the text is consistent and uniform, which is crucial for most NLP tasks, as it eliminates the case-sensitivity of words. For example \"Engineer\" and \"engineer\" would be treated as different words without lowercasing, which is unnecessary.\n"
      ],
      "metadata": {
        "id": "GZYsKEidgQRo"
      }
    },
    {
      "cell_type": "code",
      "source": [
        "data = corpus.lower() # Converts the entire text to lowercase (lower())\n",
        "data"
      ],
      "metadata": {
        "colab": {
          "base_uri": "https://localhost:8080/",
          "height": 87
        },
        "id": "lyh2dVHBfsaT",
        "outputId": "3e6c897a-f502-4b6b-a3d6-35cfb88a1ea6"
      },
      "execution_count": 11,
      "outputs": [
        {
          "output_type": "execute_result",
          "data": {
            "text/plain": [
              "\"hello, i am john doe, a software engineer at techcorp. i specialize in natural language processing (nlp) and artificial intelligence (ai) technologies. \\nover the past few years, i've worked on several nlp projects, including sentiment analysis, text classification, and named entity recognition (ner). \\nat techcorp, i manage a team of engineers who build machine learning models for processing large volumes of customer feedback data. \\nour team has developed a system that analyzes customer sentiment from emails and reviews, which has helped the company improve its services. \\nyou can reach me via email at john.doe@techcorp.com for further inquiries. i'm always happy to discuss potential collaborations! #ai #machinelearning #nlp\""
            ],
            "application/vnd.google.colaboratory.intrinsic+json": {
              "type": "string"
            }
          },
          "metadata": {},
          "execution_count": 11
        }
      ]
    },
    {
      "cell_type": "markdown",
      "source": [
        "After lowercasing, we have a uniform text which makes the next steps (like removing punctuation) more consistent and efficient."
      ],
      "metadata": {
        "id": "cBqOhU4lmLq5"
      }
    },
    {
      "cell_type": "markdown",
      "source": [
        "### Removing Punctuation\n",
        "\n",
        "Removing punctuation means eliminating all punctuation marks (like .,!?:;) from the text.\n",
        "Why it’s important: Punctuation often doesn't carry significant meaning in many NLP tasks like text classification or sentiment analysis. For example, the punctuation in \"I am so excited!!!!\" is not important for sentiment classification, so it is removed to focus on words."
      ],
      "metadata": {
        "id": "ij4B-wfFhLls"
      }
    },
    {
      "cell_type": "code",
      "source": [
        "import string #provides a predefined set of punctuation characters\n",
        "data = ''.join([char for char in data if char not in string.punctuation])\n",
        "data"
      ],
      "metadata": {
        "colab": {
          "base_uri": "https://localhost:8080/",
          "height": 87
        },
        "id": "b-Ik8sNchFnf",
        "outputId": "20ac9103-7c21-49de-ada0-858667d3f4b9"
      },
      "execution_count": 14,
      "outputs": [
        {
          "output_type": "execute_result",
          "data": {
            "text/plain": [
              "'hello i am john doe a software engineer at techcorp i specialize in natural language processing nlp and artificial intelligence ai technologies \\nover the past few years ive worked on several nlp projects including sentiment analysis text classification and named entity recognition ner \\nat techcorp i manage a team of engineers who build machine learning models for processing large volumes of customer feedback data \\nour team has developed a system that analyzes customer sentiment from emails and reviews which has helped the company improve its services \\nyou can reach me via email at johndoetechcorpcom for further inquiries im always happy to discuss potential collaborations ai machinelearning nlp'"
            ],
            "application/vnd.google.colaboratory.intrinsic+json": {
              "type": "string"
            }
          },
          "metadata": {},
          "execution_count": 14
        }
      ]
    },
    {
      "cell_type": "markdown",
      "source": [
        "With punctuation removed, the text is cleaner and more focused on the meaningful content (the words), which sets up the next step of tokenization."
      ],
      "metadata": {
        "id": "wcfeu1PKmmcM"
      }
    },
    {
      "cell_type": "markdown",
      "source": [
        "### Tokenization\n",
        "Tokenization involves breaking down the text into individual words (or tokens).\n",
        "Tokenization is the first step in NLP tasks because it transforms text into smaller, manageable units (tokens) that can be processed by algorithms. For example, \"hello i am john\" becomes [\"hello\", \"i\", \"am\",\"john\"]."
      ],
      "metadata": {
        "id": "srHCHQsDhg_g"
      }
    },
    {
      "cell_type": "code",
      "source": [
        "import nltk\n",
        "nltk.download('punkt')  # Download the required tokenizer dataset\n",
        "from nltk.tokenize import word_tokenize\n",
        "tokens = word_tokenize(data)  # Tokenize the text into words\n",
        "tokens"
      ],
      "metadata": {
        "colab": {
          "base_uri": "https://localhost:8080/",
          "height": 0
        },
        "id": "5IUmD385hSbD",
        "outputId": "179f402f-5d2a-4ab6-db79-6fb7d4fc9a4b"
      },
      "execution_count": 16,
      "outputs": [
        {
          "output_type": "stream",
          "name": "stderr",
          "text": [
            "[nltk_data] Downloading package punkt_tab to /root/nltk_data...\n",
            "[nltk_data]   Unzipping tokenizers/punkt_tab.zip.\n"
          ]
        },
        {
          "output_type": "execute_result",
          "data": {
            "text/plain": [
              "['hello',\n",
              " 'i',\n",
              " 'am',\n",
              " 'john',\n",
              " 'doe',\n",
              " 'a',\n",
              " 'software',\n",
              " 'engineer',\n",
              " 'at',\n",
              " 'techcorp',\n",
              " 'i',\n",
              " 'specialize',\n",
              " 'in',\n",
              " 'natural',\n",
              " 'language',\n",
              " 'processing',\n",
              " 'nlp',\n",
              " 'and',\n",
              " 'artificial',\n",
              " 'intelligence',\n",
              " 'ai',\n",
              " 'technologies',\n",
              " 'over',\n",
              " 'the',\n",
              " 'past',\n",
              " 'few',\n",
              " 'years',\n",
              " 'ive',\n",
              " 'worked',\n",
              " 'on',\n",
              " 'several',\n",
              " 'nlp',\n",
              " 'projects',\n",
              " 'including',\n",
              " 'sentiment',\n",
              " 'analysis',\n",
              " 'text',\n",
              " 'classification',\n",
              " 'and',\n",
              " 'named',\n",
              " 'entity',\n",
              " 'recognition',\n",
              " 'ner',\n",
              " 'at',\n",
              " 'techcorp',\n",
              " 'i',\n",
              " 'manage',\n",
              " 'a',\n",
              " 'team',\n",
              " 'of',\n",
              " 'engineers',\n",
              " 'who',\n",
              " 'build',\n",
              " 'machine',\n",
              " 'learning',\n",
              " 'models',\n",
              " 'for',\n",
              " 'processing',\n",
              " 'large',\n",
              " 'volumes',\n",
              " 'of',\n",
              " 'customer',\n",
              " 'feedback',\n",
              " 'data',\n",
              " 'our',\n",
              " 'team',\n",
              " 'has',\n",
              " 'developed',\n",
              " 'a',\n",
              " 'system',\n",
              " 'that',\n",
              " 'analyzes',\n",
              " 'customer',\n",
              " 'sentiment',\n",
              " 'from',\n",
              " 'emails',\n",
              " 'and',\n",
              " 'reviews',\n",
              " 'which',\n",
              " 'has',\n",
              " 'helped',\n",
              " 'the',\n",
              " 'company',\n",
              " 'improve',\n",
              " 'its',\n",
              " 'services',\n",
              " 'you',\n",
              " 'can',\n",
              " 'reach',\n",
              " 'me',\n",
              " 'via',\n",
              " 'email',\n",
              " 'at',\n",
              " 'johndoetechcorpcom',\n",
              " 'for',\n",
              " 'further',\n",
              " 'inquiries',\n",
              " 'im',\n",
              " 'always',\n",
              " 'happy',\n",
              " 'to',\n",
              " 'discuss',\n",
              " 'potential',\n",
              " 'collaborations',\n",
              " 'ai',\n",
              " 'machinelearning',\n",
              " 'nlp']"
            ]
          },
          "metadata": {},
          "execution_count": 16
        }
      ]
    },
    {
      "cell_type": "markdown",
      "source": [
        "After tokenization, we have individual words that we can manipulate further, like removing irrelevant words (stopwords) or analyzing the meaning of each word."
      ],
      "metadata": {
        "id": "_ZYzJRSfnCOI"
      }
    },
    {
      "cell_type": "markdown",
      "source": [
        "### Stopwords removal\n",
        "\n",
        "Stopword removal is the process of filtering out common words that do not add much meaning to the text, such as \"the,\" \"is,\" \"at,\" etc.\n",
        "Why it’s important: Removing stopwords helps reduce noise in the data and improves the efficiency of NLP models. Words like \"the\" or \"and\" are not informative for many tasks (such as classification or topic modeling), so they are removed."
      ],
      "metadata": {
        "id": "t1SQdV9RiBun"
      }
    },
    {
      "cell_type": "code",
      "source": [
        "nltk.download('stopwords')  # Download the stopwords dataset\n",
        "from nltk.corpus import stopwords  # Import stopwords list\n",
        "stop_words = set(stopwords.words('english'))  # Get the list of English stopwords\n",
        "tokens_without_stopwords = [word for word in tokens if word not in stop_words]\n",
        "tokens_without_stopwords"
      ],
      "metadata": {
        "colab": {
          "base_uri": "https://localhost:8080/"
        },
        "id": "hBrRRXvUiDcm",
        "outputId": "c6953e98-32c8-4387-a0b3-860110be533b"
      },
      "execution_count": 33,
      "outputs": [
        {
          "output_type": "stream",
          "name": "stderr",
          "text": [
            "[nltk_data] Downloading package stopwords to /root/nltk_data...\n",
            "[nltk_data]   Package stopwords is already up-to-date!\n"
          ]
        },
        {
          "output_type": "execute_result",
          "data": {
            "text/plain": [
              "['hello',\n",
              " 'john',\n",
              " 'doe',\n",
              " 'software',\n",
              " 'engineer',\n",
              " 'techcorp',\n",
              " 'specialize',\n",
              " 'natural',\n",
              " 'language',\n",
              " 'processing',\n",
              " 'nlp',\n",
              " 'artificial',\n",
              " 'intelligence',\n",
              " 'ai',\n",
              " 'technologies',\n",
              " 'past',\n",
              " 'years',\n",
              " 'ive',\n",
              " 'worked',\n",
              " 'several',\n",
              " 'nlp',\n",
              " 'projects',\n",
              " 'including',\n",
              " 'sentiment',\n",
              " 'analysis',\n",
              " 'text',\n",
              " 'classification',\n",
              " 'named',\n",
              " 'entity',\n",
              " 'recognition',\n",
              " 'ner',\n",
              " 'techcorp',\n",
              " 'manage',\n",
              " 'team',\n",
              " 'engineers',\n",
              " 'build',\n",
              " 'machine',\n",
              " 'learning',\n",
              " 'models',\n",
              " 'processing',\n",
              " 'large',\n",
              " 'volumes',\n",
              " 'customer',\n",
              " 'feedback',\n",
              " 'data',\n",
              " 'team',\n",
              " 'developed',\n",
              " 'system',\n",
              " 'analyzes',\n",
              " 'customer',\n",
              " 'sentiment',\n",
              " 'emails',\n",
              " 'reviews',\n",
              " 'helped',\n",
              " 'company',\n",
              " 'improve',\n",
              " 'services',\n",
              " 'reach',\n",
              " 'via',\n",
              " 'email',\n",
              " 'johndoetechcorpcom',\n",
              " 'inquiries',\n",
              " 'im',\n",
              " 'always',\n",
              " 'happy',\n",
              " 'discuss',\n",
              " 'potential',\n",
              " 'collaborations',\n",
              " 'ai',\n",
              " 'machinelearning',\n",
              " 'nlp']"
            ]
          },
          "metadata": {},
          "execution_count": 33
        }
      ]
    },
    {
      "cell_type": "markdown",
      "source": [
        "With stopwords removed, we focus only on the content words, which enhances the quality of the analysis in the subsequent steps like stemming and lemmatization."
      ],
      "metadata": {
        "id": "edFEFex4nRG8"
      }
    },
    {
      "cell_type": "markdown",
      "source": [
        "### Stemming\n",
        "\n",
        "Stemming reduces words to their root or base form by removing suffixes (e.g., \"running\" becomes \"run\"). Stemming helps standardize variations of a word, which can improve analysis. Stemming reduces words to their root forms by removing suffixes.\n",
        "Example: \"running\" → \"run\", \"flies\" → \"fli\", \"better\" → \"better\" (not always accurate).\n",
        "This process helps in normalizing variations of words for text processing."
      ],
      "metadata": {
        "id": "LYkbw0r9i_lX"
      }
    },
    {
      "cell_type": "code",
      "source": [
        "from nltk.stem import PorterStemmer\n",
        "stemmer = PorterStemmer()  # Create a stemmer object\n",
        "stemmed_tokens = [stemmer.stem(word) for word in tokens]  # Apply stemming to each word\n",
        "stemmed_tokens"
      ],
      "metadata": {
        "colab": {
          "base_uri": "https://localhost:8080/"
        },
        "id": "Ul1CLTcKjKfk",
        "outputId": "e2a05480-a419-4b6b-fef1-914006d83475"
      },
      "execution_count": 34,
      "outputs": [
        {
          "output_type": "execute_result",
          "data": {
            "text/plain": [
              "['hello',\n",
              " 'i',\n",
              " 'am',\n",
              " 'john',\n",
              " 'doe',\n",
              " 'a',\n",
              " 'softwar',\n",
              " 'engin',\n",
              " 'at',\n",
              " 'techcorp',\n",
              " 'i',\n",
              " 'special',\n",
              " 'in',\n",
              " 'natur',\n",
              " 'languag',\n",
              " 'process',\n",
              " 'nlp',\n",
              " 'and',\n",
              " 'artifici',\n",
              " 'intellig',\n",
              " 'ai',\n",
              " 'technolog',\n",
              " 'over',\n",
              " 'the',\n",
              " 'past',\n",
              " 'few',\n",
              " 'year',\n",
              " 'ive',\n",
              " 'work',\n",
              " 'on',\n",
              " 'sever',\n",
              " 'nlp',\n",
              " 'project',\n",
              " 'includ',\n",
              " 'sentiment',\n",
              " 'analysi',\n",
              " 'text',\n",
              " 'classif',\n",
              " 'and',\n",
              " 'name',\n",
              " 'entiti',\n",
              " 'recognit',\n",
              " 'ner',\n",
              " 'at',\n",
              " 'techcorp',\n",
              " 'i',\n",
              " 'manag',\n",
              " 'a',\n",
              " 'team',\n",
              " 'of',\n",
              " 'engin',\n",
              " 'who',\n",
              " 'build',\n",
              " 'machin',\n",
              " 'learn',\n",
              " 'model',\n",
              " 'for',\n",
              " 'process',\n",
              " 'larg',\n",
              " 'volum',\n",
              " 'of',\n",
              " 'custom',\n",
              " 'feedback',\n",
              " 'data',\n",
              " 'our',\n",
              " 'team',\n",
              " 'ha',\n",
              " 'develop',\n",
              " 'a',\n",
              " 'system',\n",
              " 'that',\n",
              " 'analyz',\n",
              " 'custom',\n",
              " 'sentiment',\n",
              " 'from',\n",
              " 'email',\n",
              " 'and',\n",
              " 'review',\n",
              " 'which',\n",
              " 'ha',\n",
              " 'help',\n",
              " 'the',\n",
              " 'compani',\n",
              " 'improv',\n",
              " 'it',\n",
              " 'servic',\n",
              " 'you',\n",
              " 'can',\n",
              " 'reach',\n",
              " 'me',\n",
              " 'via',\n",
              " 'email',\n",
              " 'at',\n",
              " 'johndoetechcorpcom',\n",
              " 'for',\n",
              " 'further',\n",
              " 'inquiri',\n",
              " 'im',\n",
              " 'alway',\n",
              " 'happi',\n",
              " 'to',\n",
              " 'discuss',\n",
              " 'potenti',\n",
              " 'collabor',\n",
              " 'ai',\n",
              " 'machinelearn',\n",
              " 'nlp']"
            ]
          },
          "metadata": {},
          "execution_count": 34
        }
      ]
    },
    {
      "cell_type": "markdown",
      "source": [
        "### Lemmatization\n",
        "\n",
        "Lemmatization also reduces words to their base form but uses dictionary references to ensure the result is a valid word (e.g., \"historical\" becomes \"history\").\n",
        "Lemmatization preserves the meaning of words more accurately than stemming because it results in valid words. For example, \"running\" becomes \"run\" in both stemming and lemmatization, but \"historical\" becomes \"history\" in lemmatization, whereas stemming might just reduce it to \"histori.\" With words lemmatized, they are now in their base forms and ready for tasks like classification, sentiment analysis, or entity recognition, ensuring consistency in interpretation."
      ],
      "metadata": {
        "id": "Epz-u8zNjTq_"
      }
    },
    {
      "cell_type": "code",
      "source": [
        "from nltk.stem import WordNetLemmatizer\n",
        "nltk.download('wordnet')\n",
        "lemmatizer = WordNetLemmatizer()  # Create a lemmatizer object\n",
        "lemmatized_tokens = [lemmatizer.lemmatize(word) for word in tokens]  # Apply lemmatization\n",
        "lemmatized_tokens"
      ],
      "metadata": {
        "colab": {
          "base_uri": "https://localhost:8080/"
        },
        "id": "eTUqANW0jO5p",
        "outputId": "729f0110-f28d-42c2-f822-b8fa7883c9b1"
      },
      "execution_count": 40,
      "outputs": [
        {
          "output_type": "stream",
          "name": "stderr",
          "text": [
            "[nltk_data] Downloading package wordnet to /root/nltk_data...\n",
            "[nltk_data]   Package wordnet is already up-to-date!\n"
          ]
        },
        {
          "output_type": "execute_result",
          "data": {
            "text/plain": [
              "['hello',\n",
              " 'i',\n",
              " 'am',\n",
              " 'john',\n",
              " 'doe',\n",
              " 'a',\n",
              " 'software',\n",
              " 'engineer',\n",
              " 'at',\n",
              " 'techcorp',\n",
              " 'i',\n",
              " 'specialize',\n",
              " 'in',\n",
              " 'natural',\n",
              " 'language',\n",
              " 'processing',\n",
              " 'nlp',\n",
              " 'and',\n",
              " 'artificial',\n",
              " 'intelligence',\n",
              " 'ai',\n",
              " 'technology',\n",
              " 'over',\n",
              " 'the',\n",
              " 'past',\n",
              " 'few',\n",
              " 'year',\n",
              " 'ive',\n",
              " 'worked',\n",
              " 'on',\n",
              " 'several',\n",
              " 'nlp',\n",
              " 'project',\n",
              " 'including',\n",
              " 'sentiment',\n",
              " 'analysis',\n",
              " 'text',\n",
              " 'classification',\n",
              " 'and',\n",
              " 'named',\n",
              " 'entity',\n",
              " 'recognition',\n",
              " 'ner',\n",
              " 'at',\n",
              " 'techcorp',\n",
              " 'i',\n",
              " 'manage',\n",
              " 'a',\n",
              " 'team',\n",
              " 'of',\n",
              " 'engineer',\n",
              " 'who',\n",
              " 'build',\n",
              " 'machine',\n",
              " 'learning',\n",
              " 'model',\n",
              " 'for',\n",
              " 'processing',\n",
              " 'large',\n",
              " 'volume',\n",
              " 'of',\n",
              " 'customer',\n",
              " 'feedback',\n",
              " 'data',\n",
              " 'our',\n",
              " 'team',\n",
              " 'ha',\n",
              " 'developed',\n",
              " 'a',\n",
              " 'system',\n",
              " 'that',\n",
              " 'analyzes',\n",
              " 'customer',\n",
              " 'sentiment',\n",
              " 'from',\n",
              " 'email',\n",
              " 'and',\n",
              " 'review',\n",
              " 'which',\n",
              " 'ha',\n",
              " 'helped',\n",
              " 'the',\n",
              " 'company',\n",
              " 'improve',\n",
              " 'it',\n",
              " 'service',\n",
              " 'you',\n",
              " 'can',\n",
              " 'reach',\n",
              " 'me',\n",
              " 'via',\n",
              " 'email',\n",
              " 'at',\n",
              " 'johndoetechcorpcom',\n",
              " 'for',\n",
              " 'further',\n",
              " 'inquiry',\n",
              " 'im',\n",
              " 'always',\n",
              " 'happy',\n",
              " 'to',\n",
              " 'discus',\n",
              " 'potential',\n",
              " 'collaboration',\n",
              " 'ai',\n",
              " 'machinelearning',\n",
              " 'nlp']"
            ]
          },
          "metadata": {},
          "execution_count": 40
        }
      ]
    },
    {
      "cell_type": "markdown",
      "source": [
        "### POS Tagging\n",
        "\n",
        "Part-of-Speech tagging assigns grammatical categories to words.\n",
        "Example: \"run\" (verb) vs. \"run\" (noun) – POS helps differentiate meanings.\n",
        "POS tagging is useful for syntactic analysis, Named Entity Recognition (NER), and text parsing.\n"
      ],
      "metadata": {
        "id": "RWa9izSCjwTA"
      }
    },
    {
      "cell_type": "code",
      "source": [
        "from nltk import pos_tag\n",
        "nltk.download('averaged_perceptron_tagger_eng')\n",
        "pos_tags = pos_tag(tokens) #Assign a grammatical category (noun, verb, etc.) to each word\n",
        "pos_tags"
      ],
      "metadata": {
        "colab": {
          "base_uri": "https://localhost:8080/"
        },
        "id": "c7Whg3vyjfJC",
        "outputId": "497da8cc-f21e-4a7c-e0c5-5c077ed9a60a"
      },
      "execution_count": 41,
      "outputs": [
        {
          "output_type": "stream",
          "name": "stderr",
          "text": [
            "[nltk_data] Downloading package averaged_perceptron_tagger_eng to\n",
            "[nltk_data]     /root/nltk_data...\n",
            "[nltk_data]   Package averaged_perceptron_tagger_eng is already up-to-\n",
            "[nltk_data]       date!\n"
          ]
        },
        {
          "output_type": "execute_result",
          "data": {
            "text/plain": [
              "[('hello', 'NN'),\n",
              " ('i', 'NN'),\n",
              " ('am', 'VBP'),\n",
              " ('john', 'NN'),\n",
              " ('doe', 'NN'),\n",
              " ('a', 'DT'),\n",
              " ('software', 'NN'),\n",
              " ('engineer', 'NN'),\n",
              " ('at', 'IN'),\n",
              " ('techcorp', 'NN'),\n",
              " ('i', 'NN'),\n",
              " ('specialize', 'VBP'),\n",
              " ('in', 'IN'),\n",
              " ('natural', 'JJ'),\n",
              " ('language', 'NN'),\n",
              " ('processing', 'NN'),\n",
              " ('nlp', 'NN'),\n",
              " ('and', 'CC'),\n",
              " ('artificial', 'JJ'),\n",
              " ('intelligence', 'NN'),\n",
              " ('ai', 'NN'),\n",
              " ('technologies', 'NNS'),\n",
              " ('over', 'IN'),\n",
              " ('the', 'DT'),\n",
              " ('past', 'JJ'),\n",
              " ('few', 'JJ'),\n",
              " ('years', 'NNS'),\n",
              " ('ive', 'VBP'),\n",
              " ('worked', 'VBN'),\n",
              " ('on', 'IN'),\n",
              " ('several', 'JJ'),\n",
              " ('nlp', 'JJ'),\n",
              " ('projects', 'NNS'),\n",
              " ('including', 'VBG'),\n",
              " ('sentiment', 'NN'),\n",
              " ('analysis', 'NN'),\n",
              " ('text', 'NN'),\n",
              " ('classification', 'NN'),\n",
              " ('and', 'CC'),\n",
              " ('named', 'VBN'),\n",
              " ('entity', 'NN'),\n",
              " ('recognition', 'NN'),\n",
              " ('ner', 'NN'),\n",
              " ('at', 'IN'),\n",
              " ('techcorp', 'NN'),\n",
              " ('i', 'NN'),\n",
              " ('manage', 'VBP'),\n",
              " ('a', 'DT'),\n",
              " ('team', 'NN'),\n",
              " ('of', 'IN'),\n",
              " ('engineers', 'NNS'),\n",
              " ('who', 'WP'),\n",
              " ('build', 'VBP'),\n",
              " ('machine', 'NN'),\n",
              " ('learning', 'NN'),\n",
              " ('models', 'NNS'),\n",
              " ('for', 'IN'),\n",
              " ('processing', 'VBG'),\n",
              " ('large', 'JJ'),\n",
              " ('volumes', 'NNS'),\n",
              " ('of', 'IN'),\n",
              " ('customer', 'NN'),\n",
              " ('feedback', 'NN'),\n",
              " ('data', 'NNS'),\n",
              " ('our', 'PRP$'),\n",
              " ('team', 'NN'),\n",
              " ('has', 'VBZ'),\n",
              " ('developed', 'VBN'),\n",
              " ('a', 'DT'),\n",
              " ('system', 'NN'),\n",
              " ('that', 'WDT'),\n",
              " ('analyzes', 'VBZ'),\n",
              " ('customer', 'NN'),\n",
              " ('sentiment', 'NN'),\n",
              " ('from', 'IN'),\n",
              " ('emails', 'NNS'),\n",
              " ('and', 'CC'),\n",
              " ('reviews', 'NNS'),\n",
              " ('which', 'WDT'),\n",
              " ('has', 'VBZ'),\n",
              " ('helped', 'VBN'),\n",
              " ('the', 'DT'),\n",
              " ('company', 'NN'),\n",
              " ('improve', 'VB'),\n",
              " ('its', 'PRP$'),\n",
              " ('services', 'NNS'),\n",
              " ('you', 'PRP'),\n",
              " ('can', 'MD'),\n",
              " ('reach', 'VB'),\n",
              " ('me', 'PRP'),\n",
              " ('via', 'IN'),\n",
              " ('email', 'NN'),\n",
              " ('at', 'IN'),\n",
              " ('johndoetechcorpcom', 'NN'),\n",
              " ('for', 'IN'),\n",
              " ('further', 'JJ'),\n",
              " ('inquiries', 'NNS'),\n",
              " ('im', 'VBP'),\n",
              " ('always', 'RB'),\n",
              " ('happy', 'JJ'),\n",
              " ('to', 'TO'),\n",
              " ('discuss', 'VB'),\n",
              " ('potential', 'JJ'),\n",
              " ('collaborations', 'NNS'),\n",
              " ('ai', 'VBP'),\n",
              " ('machinelearning', 'VBG'),\n",
              " ('nlp', 'NN')]"
            ]
          },
          "metadata": {},
          "execution_count": 41
        }
      ]
    },
    {
      "cell_type": "markdown",
      "source": [
        "### Named Entity Recognition (NER)\n",
        "\n",
        "Named Entity Recognition (NER) identifies real-world entities like:\n",
        "*   People (e.g., \"John Doe\")\n",
        "*   Organizations (e.g., \"TechCorp\")\n",
        "*   Locations (e.g., \"New York\")\n",
        "*   Dates, monetary values, and more\n",
        "\n",
        "Uses POS-tagged text to recognize named entities.\n",
        "\n",
        "Use Cases: Information extraction, Sentiment analysis on specific companies/people"
      ],
      "metadata": {
        "id": "eny_2RrDkGtX"
      }
    },
    {
      "cell_type": "code",
      "source": [
        "!pip install svgling  # Install the svgling package for visualizing linguistic structures"
      ],
      "metadata": {
        "colab": {
          "base_uri": "https://localhost:8080/"
        },
        "id": "wZw23_klkjDY",
        "outputId": "b35267a1-0c12-4b2b-cfb7-4eea06958782"
      },
      "execution_count": 42,
      "outputs": [
        {
          "output_type": "stream",
          "name": "stdout",
          "text": [
            "Requirement already satisfied: svgling in /usr/local/lib/python3.11/dist-packages (0.5.0)\n",
            "Requirement already satisfied: svgwrite in /usr/local/lib/python3.11/dist-packages (from svgling) (1.4.3)\n"
          ]
        }
      ]
    },
    {
      "cell_type": "code",
      "source": [
        "from nltk import ne_chunk\n",
        "nltk.download('maxent_ne_chunker_tab')\n",
        "nltk.download('words')\n",
        "ner_tags = ne_chunk(pos_tags)\n",
        "ner_tags"
      ],
      "metadata": {
        "colab": {
          "base_uri": "https://localhost:8080/",
          "height": 248
        },
        "id": "MMCuVxH8j7qm",
        "outputId": "6e2b7bac-07d5-4a01-8bca-c5cd150ab11b"
      },
      "execution_count": 31,
      "outputs": [
        {
          "output_type": "stream",
          "name": "stderr",
          "text": [
            "[nltk_data] Downloading package maxent_ne_chunker_tab to\n",
            "[nltk_data]     /root/nltk_data...\n",
            "[nltk_data]   Package maxent_ne_chunker_tab is already up-to-date!\n",
            "[nltk_data] Downloading package words to /root/nltk_data...\n",
            "[nltk_data]   Package words is already up-to-date!\n"
          ]
        },
        {
          "output_type": "execute_result",
          "data": {
            "text/plain": [
              "Tree('S', [('hello', 'NN'), ('i', 'NN'), ('am', 'VBP'), ('john', 'NN'), ('doe', 'NN'), ('a', 'DT'), ('software', 'NN'), ('engineer', 'NN'), ('at', 'IN'), ('techcorp', 'NN'), ('i', 'NN'), ('specialize', 'VBP'), ('in', 'IN'), ('natural', 'JJ'), ('language', 'NN'), ('processing', 'NN'), ('nlp', 'NN'), ('and', 'CC'), ('artificial', 'JJ'), ('intelligence', 'NN'), ('ai', 'NN'), ('technologies', 'NNS'), ('over', 'IN'), ('the', 'DT'), ('past', 'JJ'), ('few', 'JJ'), ('years', 'NNS'), ('ive', 'VBP'), ('worked', 'VBN'), ('on', 'IN'), ('several', 'JJ'), ('nlp', 'JJ'), ('projects', 'NNS'), ('including', 'VBG'), ('sentiment', 'NN'), ('analysis', 'NN'), ('text', 'NN'), ('classification', 'NN'), ('and', 'CC'), ('named', 'VBN'), ('entity', 'NN'), ('recognition', 'NN'), ('ner', 'NN'), ('at', 'IN'), ('techcorp', 'NN'), ('i', 'NN'), ('manage', 'VBP'), ('a', 'DT'), ('team', 'NN'), ('of', 'IN'), ('engineers', 'NNS'), ('who', 'WP'), ('build', 'VBP'), ('machine', 'NN'), ('learning', 'NN'), ('models', 'NNS'), ('for', 'IN'), ('processing', 'VBG'), ('large', 'JJ'), ('volumes', 'NNS'), ('of', 'IN'), ('customer', 'NN'), ('feedback', 'NN'), ('data', 'NNS'), ('our', 'PRP$'), ('team', 'NN'), ('has', 'VBZ'), ('developed', 'VBN'), ('a', 'DT'), ('system', 'NN'), ('that', 'WDT'), ('analyzes', 'VBZ'), ('customer', 'NN'), ('sentiment', 'NN'), ('from', 'IN'), ('emails', 'NNS'), ('and', 'CC'), ('reviews', 'NNS'), ('which', 'WDT'), ('has', 'VBZ'), ('helped', 'VBN'), ('the', 'DT'), ('company', 'NN'), ('improve', 'VB'), ('its', 'PRP$'), ('services', 'NNS'), ('you', 'PRP'), ('can', 'MD'), ('reach', 'VB'), ('me', 'PRP'), ('via', 'IN'), ('email', 'NN'), ('at', 'IN'), ('johndoetechcorpcom', 'NN'), ('for', 'IN'), ('further', 'JJ'), ('inquiries', 'NNS'), ('im', 'VBP'), ('always', 'RB'), ('happy', 'JJ'), ('to', 'TO'), ('discuss', 'VB'), ('potential', 'JJ'), ('collaborations', 'NNS'), ('ai', 'VBP'), ('machinelearning', 'VBG'), ('nlp', 'NN')])"
            ],
            "image/svg+xml": "<svg baseProfile=\"full\" height=\"120px\" preserveAspectRatio=\"xMidYMid meet\" style=\"font-family: times, serif; font-weight: normal; font-style: normal; font-size: 16px\" version=\"1.1\" viewBox=\"0,0,6552.0,120.0\" width=\"6552px\" xmlns=\"http://www.w3.org/2000/svg\" xmlns:ev=\"http://www.w3.org/2001/xml-events\" xmlns:xlink=\"http://www.w3.org/1999/xlink\"><defs /><svg width=\"100%\" x=\"0\" y=\"0px\"><defs /><text text-anchor=\"middle\" x=\"50%\" y=\"16px\">S</text></svg><svg width=\"0.854701%\" x=\"0%\" y=\"48px\"><defs /><svg width=\"100%\" x=\"0\" y=\"0px\"><defs /><text text-anchor=\"middle\" x=\"50%\" y=\"16px\">hello</text></svg><svg width=\"100%\" x=\"0%\" y=\"48px\"><defs /><svg width=\"100%\" x=\"0\" y=\"0px\"><defs /><text text-anchor=\"middle\" x=\"50%\" y=\"16px\">NN</text></svg></svg><line stroke=\"black\" x1=\"50%\" x2=\"50%\" y1=\"20px\" y2=\"48px\" /></svg><line stroke=\"black\" x1=\"50%\" x2=\"0.42735%\" y1=\"20px\" y2=\"48px\" /><svg width=\"0.4884%\" x=\"0.854701%\" y=\"48px\"><defs /><svg width=\"100%\" x=\"0\" y=\"0px\"><defs /><text text-anchor=\"middle\" x=\"50%\" y=\"16px\">i</text></svg><svg width=\"100%\" x=\"0%\" y=\"48px\"><defs /><svg width=\"100%\" x=\"0\" y=\"0px\"><defs /><text text-anchor=\"middle\" x=\"50%\" y=\"16px\">NN</text></svg></svg><line stroke=\"black\" x1=\"50%\" x2=\"50%\" y1=\"20px\" y2=\"48px\" /></svg><line stroke=\"black\" x1=\"50%\" x2=\"1.0989%\" y1=\"20px\" y2=\"48px\" /><svg width=\"0.610501%\" x=\"1.3431%\" y=\"48px\"><defs /><svg width=\"100%\" x=\"0\" y=\"0px\"><defs /><text text-anchor=\"middle\" x=\"50%\" y=\"16px\">am</text></svg><svg width=\"100%\" x=\"0%\" y=\"48px\"><defs /><svg width=\"100%\" x=\"0\" y=\"0px\"><defs /><text text-anchor=\"middle\" x=\"50%\" y=\"16px\">VBP</text></svg></svg><line stroke=\"black\" x1=\"50%\" x2=\"50%\" y1=\"20px\" y2=\"48px\" /></svg><line stroke=\"black\" x1=\"50%\" x2=\"1.64835%\" y1=\"20px\" y2=\"48px\" /><svg width=\"0.732601%\" x=\"1.9536%\" y=\"48px\"><defs /><svg width=\"100%\" x=\"0\" y=\"0px\"><defs /><text text-anchor=\"middle\" x=\"50%\" y=\"16px\">john</text></svg><svg width=\"100%\" x=\"0%\" y=\"48px\"><defs /><svg width=\"100%\" x=\"0\" y=\"0px\"><defs /><text text-anchor=\"middle\" x=\"50%\" y=\"16px\">NN</text></svg></svg><line stroke=\"black\" x1=\"50%\" x2=\"50%\" y1=\"20px\" y2=\"48px\" /></svg><line stroke=\"black\" x1=\"50%\" x2=\"2.3199%\" y1=\"20px\" y2=\"48px\" /><svg width=\"0.610501%\" x=\"2.6862%\" y=\"48px\"><defs /><svg width=\"100%\" x=\"0\" y=\"0px\"><defs /><text text-anchor=\"middle\" x=\"50%\" y=\"16px\">doe</text></svg><svg width=\"100%\" x=\"0%\" y=\"48px\"><defs /><svg width=\"100%\" x=\"0\" y=\"0px\"><defs /><text text-anchor=\"middle\" x=\"50%\" y=\"16px\">NN</text></svg></svg><line stroke=\"black\" x1=\"50%\" x2=\"50%\" y1=\"20px\" y2=\"48px\" /></svg><line stroke=\"black\" x1=\"50%\" x2=\"2.99145%\" y1=\"20px\" y2=\"48px\" /><svg width=\"0.4884%\" x=\"3.2967%\" y=\"48px\"><defs /><svg width=\"100%\" x=\"0\" y=\"0px\"><defs /><text text-anchor=\"middle\" x=\"50%\" y=\"16px\">a</text></svg><svg width=\"100%\" x=\"0%\" y=\"48px\"><defs /><svg width=\"100%\" x=\"0\" y=\"0px\"><defs /><text text-anchor=\"middle\" x=\"50%\" y=\"16px\">DT</text></svg></svg><line stroke=\"black\" x1=\"50%\" x2=\"50%\" y1=\"20px\" y2=\"48px\" /></svg><line stroke=\"black\" x1=\"50%\" x2=\"3.5409%\" y1=\"20px\" y2=\"48px\" /><svg width=\"1.221%\" x=\"3.7851%\" y=\"48px\"><defs /><svg width=\"100%\" x=\"0\" y=\"0px\"><defs /><text text-anchor=\"middle\" x=\"50%\" y=\"16px\">software</text></svg><svg width=\"100%\" x=\"0%\" y=\"48px\"><defs /><svg width=\"100%\" x=\"0\" y=\"0px\"><defs /><text text-anchor=\"middle\" x=\"50%\" y=\"16px\">NN</text></svg></svg><line stroke=\"black\" x1=\"50%\" x2=\"50%\" y1=\"20px\" y2=\"48px\" /></svg><line stroke=\"black\" x1=\"50%\" x2=\"4.3956%\" y1=\"20px\" y2=\"48px\" /><svg width=\"1.221%\" x=\"5.00611%\" y=\"48px\"><defs /><svg width=\"100%\" x=\"0\" y=\"0px\"><defs /><text text-anchor=\"middle\" x=\"50%\" y=\"16px\">engineer</text></svg><svg width=\"100%\" x=\"0%\" y=\"48px\"><defs /><svg width=\"100%\" x=\"0\" y=\"0px\"><defs /><text text-anchor=\"middle\" x=\"50%\" y=\"16px\">NN</text></svg></svg><line stroke=\"black\" x1=\"50%\" x2=\"50%\" y1=\"20px\" y2=\"48px\" /></svg><line stroke=\"black\" x1=\"50%\" x2=\"5.61661%\" y1=\"20px\" y2=\"48px\" /><svg width=\"0.4884%\" x=\"6.22711%\" y=\"48px\"><defs /><svg width=\"100%\" x=\"0\" y=\"0px\"><defs /><text text-anchor=\"middle\" x=\"50%\" y=\"16px\">at</text></svg><svg width=\"100%\" x=\"0%\" y=\"48px\"><defs /><svg width=\"100%\" x=\"0\" y=\"0px\"><defs /><text text-anchor=\"middle\" x=\"50%\" y=\"16px\">IN</text></svg></svg><line stroke=\"black\" x1=\"50%\" x2=\"50%\" y1=\"20px\" y2=\"48px\" /></svg><line stroke=\"black\" x1=\"50%\" x2=\"6.47131%\" y1=\"20px\" y2=\"48px\" /><svg width=\"1.221%\" x=\"6.71551%\" y=\"48px\"><defs /><svg width=\"100%\" x=\"0\" y=\"0px\"><defs /><text text-anchor=\"middle\" x=\"50%\" y=\"16px\">techcorp</text></svg><svg width=\"100%\" x=\"0%\" y=\"48px\"><defs /><svg width=\"100%\" x=\"0\" y=\"0px\"><defs /><text text-anchor=\"middle\" x=\"50%\" y=\"16px\">NN</text></svg></svg><line stroke=\"black\" x1=\"50%\" x2=\"50%\" y1=\"20px\" y2=\"48px\" /></svg><line stroke=\"black\" x1=\"50%\" x2=\"7.32601%\" y1=\"20px\" y2=\"48px\" /><svg width=\"0.4884%\" x=\"7.93651%\" y=\"48px\"><defs /><svg width=\"100%\" x=\"0\" y=\"0px\"><defs /><text text-anchor=\"middle\" x=\"50%\" y=\"16px\">i</text></svg><svg width=\"100%\" x=\"0%\" y=\"48px\"><defs /><svg width=\"100%\" x=\"0\" y=\"0px\"><defs /><text text-anchor=\"middle\" x=\"50%\" y=\"16px\">NN</text></svg></svg><line stroke=\"black\" x1=\"50%\" x2=\"50%\" y1=\"20px\" y2=\"48px\" /></svg><line stroke=\"black\" x1=\"50%\" x2=\"8.18071%\" y1=\"20px\" y2=\"48px\" /><svg width=\"1.4652%\" x=\"8.42491%\" y=\"48px\"><defs /><svg width=\"100%\" x=\"0\" y=\"0px\"><defs /><text text-anchor=\"middle\" x=\"50%\" y=\"16px\">specialize</text></svg><svg width=\"100%\" x=\"0%\" y=\"48px\"><defs /><svg width=\"100%\" x=\"0\" y=\"0px\"><defs /><text text-anchor=\"middle\" x=\"50%\" y=\"16px\">VBP</text></svg></svg><line stroke=\"black\" x1=\"50%\" x2=\"50%\" y1=\"20px\" y2=\"48px\" /></svg><line stroke=\"black\" x1=\"50%\" x2=\"9.15751%\" y1=\"20px\" y2=\"48px\" /><svg width=\"0.4884%\" x=\"9.89011%\" y=\"48px\"><defs /><svg width=\"100%\" x=\"0\" y=\"0px\"><defs /><text text-anchor=\"middle\" x=\"50%\" y=\"16px\">in</text></svg><svg width=\"100%\" x=\"0%\" y=\"48px\"><defs /><svg width=\"100%\" x=\"0\" y=\"0px\"><defs /><text text-anchor=\"middle\" x=\"50%\" y=\"16px\">IN</text></svg></svg><line stroke=\"black\" x1=\"50%\" x2=\"50%\" y1=\"20px\" y2=\"48px\" /></svg><line stroke=\"black\" x1=\"50%\" x2=\"10.1343%\" y1=\"20px\" y2=\"48px\" /><svg width=\"1.0989%\" x=\"10.3785%\" y=\"48px\"><defs /><svg width=\"100%\" x=\"0\" y=\"0px\"><defs /><text text-anchor=\"middle\" x=\"50%\" y=\"16px\">natural</text></svg><svg width=\"100%\" x=\"0%\" y=\"48px\"><defs /><svg width=\"100%\" x=\"0\" y=\"0px\"><defs /><text text-anchor=\"middle\" x=\"50%\" y=\"16px\">JJ</text></svg></svg><line stroke=\"black\" x1=\"50%\" x2=\"50%\" y1=\"20px\" y2=\"48px\" /></svg><line stroke=\"black\" x1=\"50%\" x2=\"10.928%\" y1=\"20px\" y2=\"48px\" /><svg width=\"1.221%\" x=\"11.4774%\" y=\"48px\"><defs /><svg width=\"100%\" x=\"0\" y=\"0px\"><defs /><text text-anchor=\"middle\" x=\"50%\" y=\"16px\">language</text></svg><svg width=\"100%\" x=\"0%\" y=\"48px\"><defs /><svg width=\"100%\" x=\"0\" y=\"0px\"><defs /><text text-anchor=\"middle\" x=\"50%\" y=\"16px\">NN</text></svg></svg><line stroke=\"black\" x1=\"50%\" x2=\"50%\" y1=\"20px\" y2=\"48px\" /></svg><line stroke=\"black\" x1=\"50%\" x2=\"12.0879%\" y1=\"20px\" y2=\"48px\" /><svg width=\"1.4652%\" x=\"12.6984%\" y=\"48px\"><defs /><svg width=\"100%\" x=\"0\" y=\"0px\"><defs /><text text-anchor=\"middle\" x=\"50%\" y=\"16px\">processing</text></svg><svg width=\"100%\" x=\"0%\" y=\"48px\"><defs /><svg width=\"100%\" x=\"0\" y=\"0px\"><defs /><text text-anchor=\"middle\" x=\"50%\" y=\"16px\">NN</text></svg></svg><line stroke=\"black\" x1=\"50%\" x2=\"50%\" y1=\"20px\" y2=\"48px\" /></svg><line stroke=\"black\" x1=\"50%\" x2=\"13.431%\" y1=\"20px\" y2=\"48px\" /><svg width=\"0.610501%\" x=\"14.1636%\" y=\"48px\"><defs /><svg width=\"100%\" x=\"0\" y=\"0px\"><defs /><text text-anchor=\"middle\" x=\"50%\" y=\"16px\">nlp</text></svg><svg width=\"100%\" x=\"0%\" y=\"48px\"><defs /><svg width=\"100%\" x=\"0\" y=\"0px\"><defs /><text text-anchor=\"middle\" x=\"50%\" y=\"16px\">NN</text></svg></svg><line stroke=\"black\" x1=\"50%\" x2=\"50%\" y1=\"20px\" y2=\"48px\" /></svg><line stroke=\"black\" x1=\"50%\" x2=\"14.4689%\" y1=\"20px\" y2=\"48px\" /><svg width=\"0.610501%\" x=\"14.7741%\" y=\"48px\"><defs /><svg width=\"100%\" x=\"0\" y=\"0px\"><defs /><text text-anchor=\"middle\" x=\"50%\" y=\"16px\">and</text></svg><svg width=\"100%\" x=\"0%\" y=\"48px\"><defs /><svg width=\"100%\" x=\"0\" y=\"0px\"><defs /><text text-anchor=\"middle\" x=\"50%\" y=\"16px\">CC</text></svg></svg><line stroke=\"black\" x1=\"50%\" x2=\"50%\" y1=\"20px\" y2=\"48px\" /></svg><line stroke=\"black\" x1=\"50%\" x2=\"15.0794%\" y1=\"20px\" y2=\"48px\" /><svg width=\"1.4652%\" x=\"15.3846%\" y=\"48px\"><defs /><svg width=\"100%\" x=\"0\" y=\"0px\"><defs /><text text-anchor=\"middle\" x=\"50%\" y=\"16px\">artificial</text></svg><svg width=\"100%\" x=\"0%\" y=\"48px\"><defs /><svg width=\"100%\" x=\"0\" y=\"0px\"><defs /><text text-anchor=\"middle\" x=\"50%\" y=\"16px\">JJ</text></svg></svg><line stroke=\"black\" x1=\"50%\" x2=\"50%\" y1=\"20px\" y2=\"48px\" /></svg><line stroke=\"black\" x1=\"50%\" x2=\"16.1172%\" y1=\"20px\" y2=\"48px\" /><svg width=\"1.7094%\" x=\"16.8498%\" y=\"48px\"><defs /><svg width=\"100%\" x=\"0\" y=\"0px\"><defs /><text text-anchor=\"middle\" x=\"50%\" y=\"16px\">intelligence</text></svg><svg width=\"100%\" x=\"0%\" y=\"48px\"><defs /><svg width=\"100%\" x=\"0\" y=\"0px\"><defs /><text text-anchor=\"middle\" x=\"50%\" y=\"16px\">NN</text></svg></svg><line stroke=\"black\" x1=\"50%\" x2=\"50%\" y1=\"20px\" y2=\"48px\" /></svg><line stroke=\"black\" x1=\"50%\" x2=\"17.7045%\" y1=\"20px\" y2=\"48px\" /><svg width=\"0.4884%\" x=\"18.5592%\" y=\"48px\"><defs /><svg width=\"100%\" x=\"0\" y=\"0px\"><defs /><text text-anchor=\"middle\" x=\"50%\" y=\"16px\">ai</text></svg><svg width=\"100%\" x=\"0%\" y=\"48px\"><defs /><svg width=\"100%\" x=\"0\" y=\"0px\"><defs /><text text-anchor=\"middle\" x=\"50%\" y=\"16px\">NN</text></svg></svg><line stroke=\"black\" x1=\"50%\" x2=\"50%\" y1=\"20px\" y2=\"48px\" /></svg><line stroke=\"black\" x1=\"50%\" x2=\"18.8034%\" y1=\"20px\" y2=\"48px\" /><svg width=\"1.7094%\" x=\"19.0476%\" y=\"48px\"><defs /><svg width=\"100%\" x=\"0\" y=\"0px\"><defs /><text text-anchor=\"middle\" x=\"50%\" y=\"16px\">technologies</text></svg><svg width=\"100%\" x=\"0%\" y=\"48px\"><defs /><svg width=\"100%\" x=\"0\" y=\"0px\"><defs /><text text-anchor=\"middle\" x=\"50%\" y=\"16px\">NNS</text></svg></svg><line stroke=\"black\" x1=\"50%\" x2=\"50%\" y1=\"20px\" y2=\"48px\" /></svg><line stroke=\"black\" x1=\"50%\" x2=\"19.9023%\" y1=\"20px\" y2=\"48px\" /><svg width=\"0.732601%\" x=\"20.757%\" y=\"48px\"><defs /><svg width=\"100%\" x=\"0\" y=\"0px\"><defs /><text text-anchor=\"middle\" x=\"50%\" y=\"16px\">over</text></svg><svg width=\"100%\" x=\"0%\" y=\"48px\"><defs /><svg width=\"100%\" x=\"0\" y=\"0px\"><defs /><text text-anchor=\"middle\" x=\"50%\" y=\"16px\">IN</text></svg></svg><line stroke=\"black\" x1=\"50%\" x2=\"50%\" y1=\"20px\" y2=\"48px\" /></svg><line stroke=\"black\" x1=\"50%\" x2=\"21.1233%\" y1=\"20px\" y2=\"48px\" /><svg width=\"0.610501%\" x=\"21.4896%\" y=\"48px\"><defs /><svg width=\"100%\" x=\"0\" y=\"0px\"><defs /><text text-anchor=\"middle\" x=\"50%\" y=\"16px\">the</text></svg><svg width=\"100%\" x=\"0%\" y=\"48px\"><defs /><svg width=\"100%\" x=\"0\" y=\"0px\"><defs /><text text-anchor=\"middle\" x=\"50%\" y=\"16px\">DT</text></svg></svg><line stroke=\"black\" x1=\"50%\" x2=\"50%\" y1=\"20px\" y2=\"48px\" /></svg><line stroke=\"black\" x1=\"50%\" x2=\"21.7949%\" y1=\"20px\" y2=\"48px\" /><svg width=\"0.732601%\" x=\"22.1001%\" y=\"48px\"><defs /><svg width=\"100%\" x=\"0\" y=\"0px\"><defs /><text text-anchor=\"middle\" x=\"50%\" y=\"16px\">past</text></svg><svg width=\"100%\" x=\"0%\" y=\"48px\"><defs /><svg width=\"100%\" x=\"0\" y=\"0px\"><defs /><text text-anchor=\"middle\" x=\"50%\" y=\"16px\">JJ</text></svg></svg><line stroke=\"black\" x1=\"50%\" x2=\"50%\" y1=\"20px\" y2=\"48px\" /></svg><line stroke=\"black\" x1=\"50%\" x2=\"22.4664%\" y1=\"20px\" y2=\"48px\" /><svg width=\"0.610501%\" x=\"22.8327%\" y=\"48px\"><defs /><svg width=\"100%\" x=\"0\" y=\"0px\"><defs /><text text-anchor=\"middle\" x=\"50%\" y=\"16px\">few</text></svg><svg width=\"100%\" x=\"0%\" y=\"48px\"><defs /><svg width=\"100%\" x=\"0\" y=\"0px\"><defs /><text text-anchor=\"middle\" x=\"50%\" y=\"16px\">JJ</text></svg></svg><line stroke=\"black\" x1=\"50%\" x2=\"50%\" y1=\"20px\" y2=\"48px\" /></svg><line stroke=\"black\" x1=\"50%\" x2=\"23.138%\" y1=\"20px\" y2=\"48px\" /><svg width=\"0.854701%\" x=\"23.4432%\" y=\"48px\"><defs /><svg width=\"100%\" x=\"0\" y=\"0px\"><defs /><text text-anchor=\"middle\" x=\"50%\" y=\"16px\">years</text></svg><svg width=\"100%\" x=\"0%\" y=\"48px\"><defs /><svg width=\"100%\" x=\"0\" y=\"0px\"><defs /><text text-anchor=\"middle\" x=\"50%\" y=\"16px\">NNS</text></svg></svg><line stroke=\"black\" x1=\"50%\" x2=\"50%\" y1=\"20px\" y2=\"48px\" /></svg><line stroke=\"black\" x1=\"50%\" x2=\"23.8706%\" y1=\"20px\" y2=\"48px\" /><svg width=\"0.610501%\" x=\"24.2979%\" y=\"48px\"><defs /><svg width=\"100%\" x=\"0\" y=\"0px\"><defs /><text text-anchor=\"middle\" x=\"50%\" y=\"16px\">ive</text></svg><svg width=\"100%\" x=\"0%\" y=\"48px\"><defs /><svg width=\"100%\" x=\"0\" y=\"0px\"><defs /><text text-anchor=\"middle\" x=\"50%\" y=\"16px\">VBP</text></svg></svg><line stroke=\"black\" x1=\"50%\" x2=\"50%\" y1=\"20px\" y2=\"48px\" /></svg><line stroke=\"black\" x1=\"50%\" x2=\"24.6032%\" y1=\"20px\" y2=\"48px\" /><svg width=\"0.976801%\" x=\"24.9084%\" y=\"48px\"><defs /><svg width=\"100%\" x=\"0\" y=\"0px\"><defs /><text text-anchor=\"middle\" x=\"50%\" y=\"16px\">worked</text></svg><svg width=\"100%\" x=\"0%\" y=\"48px\"><defs /><svg width=\"100%\" x=\"0\" y=\"0px\"><defs /><text text-anchor=\"middle\" x=\"50%\" y=\"16px\">VBN</text></svg></svg><line stroke=\"black\" x1=\"50%\" x2=\"50%\" y1=\"20px\" y2=\"48px\" /></svg><line stroke=\"black\" x1=\"50%\" x2=\"25.3968%\" y1=\"20px\" y2=\"48px\" /><svg width=\"0.4884%\" x=\"25.8852%\" y=\"48px\"><defs /><svg width=\"100%\" x=\"0\" y=\"0px\"><defs /><text text-anchor=\"middle\" x=\"50%\" y=\"16px\">on</text></svg><svg width=\"100%\" x=\"0%\" y=\"48px\"><defs /><svg width=\"100%\" x=\"0\" y=\"0px\"><defs /><text text-anchor=\"middle\" x=\"50%\" y=\"16px\">IN</text></svg></svg><line stroke=\"black\" x1=\"50%\" x2=\"50%\" y1=\"20px\" y2=\"48px\" /></svg><line stroke=\"black\" x1=\"50%\" x2=\"26.1294%\" y1=\"20px\" y2=\"48px\" /><svg width=\"1.0989%\" x=\"26.3736%\" y=\"48px\"><defs /><svg width=\"100%\" x=\"0\" y=\"0px\"><defs /><text text-anchor=\"middle\" x=\"50%\" y=\"16px\">several</text></svg><svg width=\"100%\" x=\"0%\" y=\"48px\"><defs /><svg width=\"100%\" x=\"0\" y=\"0px\"><defs /><text text-anchor=\"middle\" x=\"50%\" y=\"16px\">JJ</text></svg></svg><line stroke=\"black\" x1=\"50%\" x2=\"50%\" y1=\"20px\" y2=\"48px\" /></svg><line stroke=\"black\" x1=\"50%\" x2=\"26.9231%\" y1=\"20px\" y2=\"48px\" /><svg width=\"0.610501%\" x=\"27.4725%\" y=\"48px\"><defs /><svg width=\"100%\" x=\"0\" y=\"0px\"><defs /><text text-anchor=\"middle\" x=\"50%\" y=\"16px\">nlp</text></svg><svg width=\"100%\" x=\"0%\" y=\"48px\"><defs /><svg width=\"100%\" x=\"0\" y=\"0px\"><defs /><text text-anchor=\"middle\" x=\"50%\" y=\"16px\">JJ</text></svg></svg><line stroke=\"black\" x1=\"50%\" x2=\"50%\" y1=\"20px\" y2=\"48px\" /></svg><line stroke=\"black\" x1=\"50%\" x2=\"27.7778%\" y1=\"20px\" y2=\"48px\" /><svg width=\"1.221%\" x=\"28.083%\" y=\"48px\"><defs /><svg width=\"100%\" x=\"0\" y=\"0px\"><defs /><text text-anchor=\"middle\" x=\"50%\" y=\"16px\">projects</text></svg><svg width=\"100%\" x=\"0%\" y=\"48px\"><defs /><svg width=\"100%\" x=\"0\" y=\"0px\"><defs /><text text-anchor=\"middle\" x=\"50%\" y=\"16px\">NNS</text></svg></svg><line stroke=\"black\" x1=\"50%\" x2=\"50%\" y1=\"20px\" y2=\"48px\" /></svg><line stroke=\"black\" x1=\"50%\" x2=\"28.6935%\" y1=\"20px\" y2=\"48px\" /><svg width=\"1.3431%\" x=\"29.304%\" y=\"48px\"><defs /><svg width=\"100%\" x=\"0\" y=\"0px\"><defs /><text text-anchor=\"middle\" x=\"50%\" y=\"16px\">including</text></svg><svg width=\"100%\" x=\"0%\" y=\"48px\"><defs /><svg width=\"100%\" x=\"0\" y=\"0px\"><defs /><text text-anchor=\"middle\" x=\"50%\" y=\"16px\">VBG</text></svg></svg><line stroke=\"black\" x1=\"50%\" x2=\"50%\" y1=\"20px\" y2=\"48px\" /></svg><line stroke=\"black\" x1=\"50%\" x2=\"29.9756%\" y1=\"20px\" y2=\"48px\" /><svg width=\"1.3431%\" x=\"30.6471%\" y=\"48px\"><defs /><svg width=\"100%\" x=\"0\" y=\"0px\"><defs /><text text-anchor=\"middle\" x=\"50%\" y=\"16px\">sentiment</text></svg><svg width=\"100%\" x=\"0%\" y=\"48px\"><defs /><svg width=\"100%\" x=\"0\" y=\"0px\"><defs /><text text-anchor=\"middle\" x=\"50%\" y=\"16px\">NN</text></svg></svg><line stroke=\"black\" x1=\"50%\" x2=\"50%\" y1=\"20px\" y2=\"48px\" /></svg><line stroke=\"black\" x1=\"50%\" x2=\"31.3187%\" y1=\"20px\" y2=\"48px\" /><svg width=\"1.221%\" x=\"31.9902%\" y=\"48px\"><defs /><svg width=\"100%\" x=\"0\" y=\"0px\"><defs /><text text-anchor=\"middle\" x=\"50%\" y=\"16px\">analysis</text></svg><svg width=\"100%\" x=\"0%\" y=\"48px\"><defs /><svg width=\"100%\" x=\"0\" y=\"0px\"><defs /><text text-anchor=\"middle\" x=\"50%\" y=\"16px\">NN</text></svg></svg><line stroke=\"black\" x1=\"50%\" x2=\"50%\" y1=\"20px\" y2=\"48px\" /></svg><line stroke=\"black\" x1=\"50%\" x2=\"32.6007%\" y1=\"20px\" y2=\"48px\" /><svg width=\"0.732601%\" x=\"33.2112%\" y=\"48px\"><defs /><svg width=\"100%\" x=\"0\" y=\"0px\"><defs /><text text-anchor=\"middle\" x=\"50%\" y=\"16px\">text</text></svg><svg width=\"100%\" x=\"0%\" y=\"48px\"><defs /><svg width=\"100%\" x=\"0\" y=\"0px\"><defs /><text text-anchor=\"middle\" x=\"50%\" y=\"16px\">NN</text></svg></svg><line stroke=\"black\" x1=\"50%\" x2=\"50%\" y1=\"20px\" y2=\"48px\" /></svg><line stroke=\"black\" x1=\"50%\" x2=\"33.5775%\" y1=\"20px\" y2=\"48px\" /><svg width=\"1.9536%\" x=\"33.9438%\" y=\"48px\"><defs /><svg width=\"100%\" x=\"0\" y=\"0px\"><defs /><text text-anchor=\"middle\" x=\"50%\" y=\"16px\">classification</text></svg><svg width=\"100%\" x=\"0%\" y=\"48px\"><defs /><svg width=\"100%\" x=\"0\" y=\"0px\"><defs /><text text-anchor=\"middle\" x=\"50%\" y=\"16px\">NN</text></svg></svg><line stroke=\"black\" x1=\"50%\" x2=\"50%\" y1=\"20px\" y2=\"48px\" /></svg><line stroke=\"black\" x1=\"50%\" x2=\"34.9206%\" y1=\"20px\" y2=\"48px\" /><svg width=\"0.610501%\" x=\"35.8974%\" y=\"48px\"><defs /><svg width=\"100%\" x=\"0\" y=\"0px\"><defs /><text text-anchor=\"middle\" x=\"50%\" y=\"16px\">and</text></svg><svg width=\"100%\" x=\"0%\" y=\"48px\"><defs /><svg width=\"100%\" x=\"0\" y=\"0px\"><defs /><text text-anchor=\"middle\" x=\"50%\" y=\"16px\">CC</text></svg></svg><line stroke=\"black\" x1=\"50%\" x2=\"50%\" y1=\"20px\" y2=\"48px\" /></svg><line stroke=\"black\" x1=\"50%\" x2=\"36.2027%\" y1=\"20px\" y2=\"48px\" /><svg width=\"0.854701%\" x=\"36.5079%\" y=\"48px\"><defs /><svg width=\"100%\" x=\"0\" y=\"0px\"><defs /><text text-anchor=\"middle\" x=\"50%\" y=\"16px\">named</text></svg><svg width=\"100%\" x=\"0%\" y=\"48px\"><defs /><svg width=\"100%\" x=\"0\" y=\"0px\"><defs /><text text-anchor=\"middle\" x=\"50%\" y=\"16px\">VBN</text></svg></svg><line stroke=\"black\" x1=\"50%\" x2=\"50%\" y1=\"20px\" y2=\"48px\" /></svg><line stroke=\"black\" x1=\"50%\" x2=\"36.9353%\" y1=\"20px\" y2=\"48px\" /><svg width=\"0.976801%\" x=\"37.3626%\" y=\"48px\"><defs /><svg width=\"100%\" x=\"0\" y=\"0px\"><defs /><text text-anchor=\"middle\" x=\"50%\" y=\"16px\">entity</text></svg><svg width=\"100%\" x=\"0%\" y=\"48px\"><defs /><svg width=\"100%\" x=\"0\" y=\"0px\"><defs /><text text-anchor=\"middle\" x=\"50%\" y=\"16px\">NN</text></svg></svg><line stroke=\"black\" x1=\"50%\" x2=\"50%\" y1=\"20px\" y2=\"48px\" /></svg><line stroke=\"black\" x1=\"50%\" x2=\"37.851%\" y1=\"20px\" y2=\"48px\" /><svg width=\"1.5873%\" x=\"38.3394%\" y=\"48px\"><defs /><svg width=\"100%\" x=\"0\" y=\"0px\"><defs /><text text-anchor=\"middle\" x=\"50%\" y=\"16px\">recognition</text></svg><svg width=\"100%\" x=\"0%\" y=\"48px\"><defs /><svg width=\"100%\" x=\"0\" y=\"0px\"><defs /><text text-anchor=\"middle\" x=\"50%\" y=\"16px\">NN</text></svg></svg><line stroke=\"black\" x1=\"50%\" x2=\"50%\" y1=\"20px\" y2=\"48px\" /></svg><line stroke=\"black\" x1=\"50%\" x2=\"39.1331%\" y1=\"20px\" y2=\"48px\" /><svg width=\"0.610501%\" x=\"39.9267%\" y=\"48px\"><defs /><svg width=\"100%\" x=\"0\" y=\"0px\"><defs /><text text-anchor=\"middle\" x=\"50%\" y=\"16px\">ner</text></svg><svg width=\"100%\" x=\"0%\" y=\"48px\"><defs /><svg width=\"100%\" x=\"0\" y=\"0px\"><defs /><text text-anchor=\"middle\" x=\"50%\" y=\"16px\">NN</text></svg></svg><line stroke=\"black\" x1=\"50%\" x2=\"50%\" y1=\"20px\" y2=\"48px\" /></svg><line stroke=\"black\" x1=\"50%\" x2=\"40.232%\" y1=\"20px\" y2=\"48px\" /><svg width=\"0.4884%\" x=\"40.5372%\" y=\"48px\"><defs /><svg width=\"100%\" x=\"0\" y=\"0px\"><defs /><text text-anchor=\"middle\" x=\"50%\" y=\"16px\">at</text></svg><svg width=\"100%\" x=\"0%\" y=\"48px\"><defs /><svg width=\"100%\" x=\"0\" y=\"0px\"><defs /><text text-anchor=\"middle\" x=\"50%\" y=\"16px\">IN</text></svg></svg><line stroke=\"black\" x1=\"50%\" x2=\"50%\" y1=\"20px\" y2=\"48px\" /></svg><line stroke=\"black\" x1=\"50%\" x2=\"40.7814%\" y1=\"20px\" y2=\"48px\" /><svg width=\"1.221%\" x=\"41.0256%\" y=\"48px\"><defs /><svg width=\"100%\" x=\"0\" y=\"0px\"><defs /><text text-anchor=\"middle\" x=\"50%\" y=\"16px\">techcorp</text></svg><svg width=\"100%\" x=\"0%\" y=\"48px\"><defs /><svg width=\"100%\" x=\"0\" y=\"0px\"><defs /><text text-anchor=\"middle\" x=\"50%\" y=\"16px\">NN</text></svg></svg><line stroke=\"black\" x1=\"50%\" x2=\"50%\" y1=\"20px\" y2=\"48px\" /></svg><line stroke=\"black\" x1=\"50%\" x2=\"41.6361%\" y1=\"20px\" y2=\"48px\" /><svg width=\"0.4884%\" x=\"42.2466%\" y=\"48px\"><defs /><svg width=\"100%\" x=\"0\" y=\"0px\"><defs /><text text-anchor=\"middle\" x=\"50%\" y=\"16px\">i</text></svg><svg width=\"100%\" x=\"0%\" y=\"48px\"><defs /><svg width=\"100%\" x=\"0\" y=\"0px\"><defs /><text text-anchor=\"middle\" x=\"50%\" y=\"16px\">NN</text></svg></svg><line stroke=\"black\" x1=\"50%\" x2=\"50%\" y1=\"20px\" y2=\"48px\" /></svg><line stroke=\"black\" x1=\"50%\" x2=\"42.4908%\" y1=\"20px\" y2=\"48px\" /><svg width=\"0.976801%\" x=\"42.735%\" y=\"48px\"><defs /><svg width=\"100%\" x=\"0\" y=\"0px\"><defs /><text text-anchor=\"middle\" x=\"50%\" y=\"16px\">manage</text></svg><svg width=\"100%\" x=\"0%\" y=\"48px\"><defs /><svg width=\"100%\" x=\"0\" y=\"0px\"><defs /><text text-anchor=\"middle\" x=\"50%\" y=\"16px\">VBP</text></svg></svg><line stroke=\"black\" x1=\"50%\" x2=\"50%\" y1=\"20px\" y2=\"48px\" /></svg><line stroke=\"black\" x1=\"50%\" x2=\"43.2234%\" y1=\"20px\" y2=\"48px\" /><svg width=\"0.4884%\" x=\"43.7118%\" y=\"48px\"><defs /><svg width=\"100%\" x=\"0\" y=\"0px\"><defs /><text text-anchor=\"middle\" x=\"50%\" y=\"16px\">a</text></svg><svg width=\"100%\" x=\"0%\" y=\"48px\"><defs /><svg width=\"100%\" x=\"0\" y=\"0px\"><defs /><text text-anchor=\"middle\" x=\"50%\" y=\"16px\">DT</text></svg></svg><line stroke=\"black\" x1=\"50%\" x2=\"50%\" y1=\"20px\" y2=\"48px\" /></svg><line stroke=\"black\" x1=\"50%\" x2=\"43.956%\" y1=\"20px\" y2=\"48px\" /><svg width=\"0.732601%\" x=\"44.2002%\" y=\"48px\"><defs /><svg width=\"100%\" x=\"0\" y=\"0px\"><defs /><text text-anchor=\"middle\" x=\"50%\" y=\"16px\">team</text></svg><svg width=\"100%\" x=\"0%\" y=\"48px\"><defs /><svg width=\"100%\" x=\"0\" y=\"0px\"><defs /><text text-anchor=\"middle\" x=\"50%\" y=\"16px\">NN</text></svg></svg><line stroke=\"black\" x1=\"50%\" x2=\"50%\" y1=\"20px\" y2=\"48px\" /></svg><line stroke=\"black\" x1=\"50%\" x2=\"44.5665%\" y1=\"20px\" y2=\"48px\" /><svg width=\"0.4884%\" x=\"44.9328%\" y=\"48px\"><defs /><svg width=\"100%\" x=\"0\" y=\"0px\"><defs /><text text-anchor=\"middle\" x=\"50%\" y=\"16px\">of</text></svg><svg width=\"100%\" x=\"0%\" y=\"48px\"><defs /><svg width=\"100%\" x=\"0\" y=\"0px\"><defs /><text text-anchor=\"middle\" x=\"50%\" y=\"16px\">IN</text></svg></svg><line stroke=\"black\" x1=\"50%\" x2=\"50%\" y1=\"20px\" y2=\"48px\" /></svg><line stroke=\"black\" x1=\"50%\" x2=\"45.177%\" y1=\"20px\" y2=\"48px\" /><svg width=\"1.3431%\" x=\"45.4212%\" y=\"48px\"><defs /><svg width=\"100%\" x=\"0\" y=\"0px\"><defs /><text text-anchor=\"middle\" x=\"50%\" y=\"16px\">engineers</text></svg><svg width=\"100%\" x=\"0%\" y=\"48px\"><defs /><svg width=\"100%\" x=\"0\" y=\"0px\"><defs /><text text-anchor=\"middle\" x=\"50%\" y=\"16px\">NNS</text></svg></svg><line stroke=\"black\" x1=\"50%\" x2=\"50%\" y1=\"20px\" y2=\"48px\" /></svg><line stroke=\"black\" x1=\"50%\" x2=\"46.0928%\" y1=\"20px\" y2=\"48px\" /><svg width=\"0.610501%\" x=\"46.7643%\" y=\"48px\"><defs /><svg width=\"100%\" x=\"0\" y=\"0px\"><defs /><text text-anchor=\"middle\" x=\"50%\" y=\"16px\">who</text></svg><svg width=\"100%\" x=\"0%\" y=\"48px\"><defs /><svg width=\"100%\" x=\"0\" y=\"0px\"><defs /><text text-anchor=\"middle\" x=\"50%\" y=\"16px\">WP</text></svg></svg><line stroke=\"black\" x1=\"50%\" x2=\"50%\" y1=\"20px\" y2=\"48px\" /></svg><line stroke=\"black\" x1=\"50%\" x2=\"47.0696%\" y1=\"20px\" y2=\"48px\" /><svg width=\"0.854701%\" x=\"47.3748%\" y=\"48px\"><defs /><svg width=\"100%\" x=\"0\" y=\"0px\"><defs /><text text-anchor=\"middle\" x=\"50%\" y=\"16px\">build</text></svg><svg width=\"100%\" x=\"0%\" y=\"48px\"><defs /><svg width=\"100%\" x=\"0\" y=\"0px\"><defs /><text text-anchor=\"middle\" x=\"50%\" y=\"16px\">VBP</text></svg></svg><line stroke=\"black\" x1=\"50%\" x2=\"50%\" y1=\"20px\" y2=\"48px\" /></svg><line stroke=\"black\" x1=\"50%\" x2=\"47.8022%\" y1=\"20px\" y2=\"48px\" /><svg width=\"1.0989%\" x=\"48.2295%\" y=\"48px\"><defs /><svg width=\"100%\" x=\"0\" y=\"0px\"><defs /><text text-anchor=\"middle\" x=\"50%\" y=\"16px\">machine</text></svg><svg width=\"100%\" x=\"0%\" y=\"48px\"><defs /><svg width=\"100%\" x=\"0\" y=\"0px\"><defs /><text text-anchor=\"middle\" x=\"50%\" y=\"16px\">NN</text></svg></svg><line stroke=\"black\" x1=\"50%\" x2=\"50%\" y1=\"20px\" y2=\"48px\" /></svg><line stroke=\"black\" x1=\"50%\" x2=\"48.779%\" y1=\"20px\" y2=\"48px\" /><svg width=\"1.221%\" x=\"49.3284%\" y=\"48px\"><defs /><svg width=\"100%\" x=\"0\" y=\"0px\"><defs /><text text-anchor=\"middle\" x=\"50%\" y=\"16px\">learning</text></svg><svg width=\"100%\" x=\"0%\" y=\"48px\"><defs /><svg width=\"100%\" x=\"0\" y=\"0px\"><defs /><text text-anchor=\"middle\" x=\"50%\" y=\"16px\">NN</text></svg></svg><line stroke=\"black\" x1=\"50%\" x2=\"50%\" y1=\"20px\" y2=\"48px\" /></svg><line stroke=\"black\" x1=\"50%\" x2=\"49.9389%\" y1=\"20px\" y2=\"48px\" /><svg width=\"0.976801%\" x=\"50.5495%\" y=\"48px\"><defs /><svg width=\"100%\" x=\"0\" y=\"0px\"><defs /><text text-anchor=\"middle\" x=\"50%\" y=\"16px\">models</text></svg><svg width=\"100%\" x=\"0%\" y=\"48px\"><defs /><svg width=\"100%\" x=\"0\" y=\"0px\"><defs /><text text-anchor=\"middle\" x=\"50%\" y=\"16px\">NNS</text></svg></svg><line stroke=\"black\" x1=\"50%\" x2=\"50%\" y1=\"20px\" y2=\"48px\" /></svg><line stroke=\"black\" x1=\"50%\" x2=\"51.0379%\" y1=\"20px\" y2=\"48px\" /><svg width=\"0.610501%\" x=\"51.5263%\" y=\"48px\"><defs /><svg width=\"100%\" x=\"0\" y=\"0px\"><defs /><text text-anchor=\"middle\" x=\"50%\" y=\"16px\">for</text></svg><svg width=\"100%\" x=\"0%\" y=\"48px\"><defs /><svg width=\"100%\" x=\"0\" y=\"0px\"><defs /><text text-anchor=\"middle\" x=\"50%\" y=\"16px\">IN</text></svg></svg><line stroke=\"black\" x1=\"50%\" x2=\"50%\" y1=\"20px\" y2=\"48px\" /></svg><line stroke=\"black\" x1=\"50%\" x2=\"51.8315%\" y1=\"20px\" y2=\"48px\" /><svg width=\"1.4652%\" x=\"52.1368%\" y=\"48px\"><defs /><svg width=\"100%\" x=\"0\" y=\"0px\"><defs /><text text-anchor=\"middle\" x=\"50%\" y=\"16px\">processing</text></svg><svg width=\"100%\" x=\"0%\" y=\"48px\"><defs /><svg width=\"100%\" x=\"0\" y=\"0px\"><defs /><text text-anchor=\"middle\" x=\"50%\" y=\"16px\">VBG</text></svg></svg><line stroke=\"black\" x1=\"50%\" x2=\"50%\" y1=\"20px\" y2=\"48px\" /></svg><line stroke=\"black\" x1=\"50%\" x2=\"52.8694%\" y1=\"20px\" y2=\"48px\" /><svg width=\"0.854701%\" x=\"53.602%\" y=\"48px\"><defs /><svg width=\"100%\" x=\"0\" y=\"0px\"><defs /><text text-anchor=\"middle\" x=\"50%\" y=\"16px\">large</text></svg><svg width=\"100%\" x=\"0%\" y=\"48px\"><defs /><svg width=\"100%\" x=\"0\" y=\"0px\"><defs /><text text-anchor=\"middle\" x=\"50%\" y=\"16px\">JJ</text></svg></svg><line stroke=\"black\" x1=\"50%\" x2=\"50%\" y1=\"20px\" y2=\"48px\" /></svg><line stroke=\"black\" x1=\"50%\" x2=\"54.0293%\" y1=\"20px\" y2=\"48px\" /><svg width=\"1.0989%\" x=\"54.4567%\" y=\"48px\"><defs /><svg width=\"100%\" x=\"0\" y=\"0px\"><defs /><text text-anchor=\"middle\" x=\"50%\" y=\"16px\">volumes</text></svg><svg width=\"100%\" x=\"0%\" y=\"48px\"><defs /><svg width=\"100%\" x=\"0\" y=\"0px\"><defs /><text text-anchor=\"middle\" x=\"50%\" y=\"16px\">NNS</text></svg></svg><line stroke=\"black\" x1=\"50%\" x2=\"50%\" y1=\"20px\" y2=\"48px\" /></svg><line stroke=\"black\" x1=\"50%\" x2=\"55.0061%\" y1=\"20px\" y2=\"48px\" /><svg width=\"0.4884%\" x=\"55.5556%\" y=\"48px\"><defs /><svg width=\"100%\" x=\"0\" y=\"0px\"><defs /><text text-anchor=\"middle\" x=\"50%\" y=\"16px\">of</text></svg><svg width=\"100%\" x=\"0%\" y=\"48px\"><defs /><svg width=\"100%\" x=\"0\" y=\"0px\"><defs /><text text-anchor=\"middle\" x=\"50%\" y=\"16px\">IN</text></svg></svg><line stroke=\"black\" x1=\"50%\" x2=\"50%\" y1=\"20px\" y2=\"48px\" /></svg><line stroke=\"black\" x1=\"50%\" x2=\"55.7998%\" y1=\"20px\" y2=\"48px\" /><svg width=\"1.221%\" x=\"56.044%\" y=\"48px\"><defs /><svg width=\"100%\" x=\"0\" y=\"0px\"><defs /><text text-anchor=\"middle\" x=\"50%\" y=\"16px\">customer</text></svg><svg width=\"100%\" x=\"0%\" y=\"48px\"><defs /><svg width=\"100%\" x=\"0\" y=\"0px\"><defs /><text text-anchor=\"middle\" x=\"50%\" y=\"16px\">NN</text></svg></svg><line stroke=\"black\" x1=\"50%\" x2=\"50%\" y1=\"20px\" y2=\"48px\" /></svg><line stroke=\"black\" x1=\"50%\" x2=\"56.6545%\" y1=\"20px\" y2=\"48px\" /><svg width=\"1.221%\" x=\"57.265%\" y=\"48px\"><defs /><svg width=\"100%\" x=\"0\" y=\"0px\"><defs /><text text-anchor=\"middle\" x=\"50%\" y=\"16px\">feedback</text></svg><svg width=\"100%\" x=\"0%\" y=\"48px\"><defs /><svg width=\"100%\" x=\"0\" y=\"0px\"><defs /><text text-anchor=\"middle\" x=\"50%\" y=\"16px\">NN</text></svg></svg><line stroke=\"black\" x1=\"50%\" x2=\"50%\" y1=\"20px\" y2=\"48px\" /></svg><line stroke=\"black\" x1=\"50%\" x2=\"57.8755%\" y1=\"20px\" y2=\"48px\" /><svg width=\"0.732601%\" x=\"58.486%\" y=\"48px\"><defs /><svg width=\"100%\" x=\"0\" y=\"0px\"><defs /><text text-anchor=\"middle\" x=\"50%\" y=\"16px\">data</text></svg><svg width=\"100%\" x=\"0%\" y=\"48px\"><defs /><svg width=\"100%\" x=\"0\" y=\"0px\"><defs /><text text-anchor=\"middle\" x=\"50%\" y=\"16px\">NNS</text></svg></svg><line stroke=\"black\" x1=\"50%\" x2=\"50%\" y1=\"20px\" y2=\"48px\" /></svg><line stroke=\"black\" x1=\"50%\" x2=\"58.8523%\" y1=\"20px\" y2=\"48px\" /><svg width=\"0.732601%\" x=\"59.2186%\" y=\"48px\"><defs /><svg width=\"100%\" x=\"0\" y=\"0px\"><defs /><text text-anchor=\"middle\" x=\"50%\" y=\"16px\">our</text></svg><svg width=\"100%\" x=\"0%\" y=\"48px\"><defs /><svg width=\"100%\" x=\"0\" y=\"0px\"><defs /><text text-anchor=\"middle\" x=\"50%\" y=\"16px\">PRP$</text></svg></svg><line stroke=\"black\" x1=\"50%\" x2=\"50%\" y1=\"20px\" y2=\"48px\" /></svg><line stroke=\"black\" x1=\"50%\" x2=\"59.5849%\" y1=\"20px\" y2=\"48px\" /><svg width=\"0.732601%\" x=\"59.9512%\" y=\"48px\"><defs /><svg width=\"100%\" x=\"0\" y=\"0px\"><defs /><text text-anchor=\"middle\" x=\"50%\" y=\"16px\">team</text></svg><svg width=\"100%\" x=\"0%\" y=\"48px\"><defs /><svg width=\"100%\" x=\"0\" y=\"0px\"><defs /><text text-anchor=\"middle\" x=\"50%\" y=\"16px\">NN</text></svg></svg><line stroke=\"black\" x1=\"50%\" x2=\"50%\" y1=\"20px\" y2=\"48px\" /></svg><line stroke=\"black\" x1=\"50%\" x2=\"60.3175%\" y1=\"20px\" y2=\"48px\" /><svg width=\"0.610501%\" x=\"60.6838%\" y=\"48px\"><defs /><svg width=\"100%\" x=\"0\" y=\"0px\"><defs /><text text-anchor=\"middle\" x=\"50%\" y=\"16px\">has</text></svg><svg width=\"100%\" x=\"0%\" y=\"48px\"><defs /><svg width=\"100%\" x=\"0\" y=\"0px\"><defs /><text text-anchor=\"middle\" x=\"50%\" y=\"16px\">VBZ</text></svg></svg><line stroke=\"black\" x1=\"50%\" x2=\"50%\" y1=\"20px\" y2=\"48px\" /></svg><line stroke=\"black\" x1=\"50%\" x2=\"60.989%\" y1=\"20px\" y2=\"48px\" /><svg width=\"1.3431%\" x=\"61.2943%\" y=\"48px\"><defs /><svg width=\"100%\" x=\"0\" y=\"0px\"><defs /><text text-anchor=\"middle\" x=\"50%\" y=\"16px\">developed</text></svg><svg width=\"100%\" x=\"0%\" y=\"48px\"><defs /><svg width=\"100%\" x=\"0\" y=\"0px\"><defs /><text text-anchor=\"middle\" x=\"50%\" y=\"16px\">VBN</text></svg></svg><line stroke=\"black\" x1=\"50%\" x2=\"50%\" y1=\"20px\" y2=\"48px\" /></svg><line stroke=\"black\" x1=\"50%\" x2=\"61.9658%\" y1=\"20px\" y2=\"48px\" /><svg width=\"0.4884%\" x=\"62.6374%\" y=\"48px\"><defs /><svg width=\"100%\" x=\"0\" y=\"0px\"><defs /><text text-anchor=\"middle\" x=\"50%\" y=\"16px\">a</text></svg><svg width=\"100%\" x=\"0%\" y=\"48px\"><defs /><svg width=\"100%\" x=\"0\" y=\"0px\"><defs /><text text-anchor=\"middle\" x=\"50%\" y=\"16px\">DT</text></svg></svg><line stroke=\"black\" x1=\"50%\" x2=\"50%\" y1=\"20px\" y2=\"48px\" /></svg><line stroke=\"black\" x1=\"50%\" x2=\"62.8816%\" y1=\"20px\" y2=\"48px\" /><svg width=\"0.976801%\" x=\"63.1258%\" y=\"48px\"><defs /><svg width=\"100%\" x=\"0\" y=\"0px\"><defs /><text text-anchor=\"middle\" x=\"50%\" y=\"16px\">system</text></svg><svg width=\"100%\" x=\"0%\" y=\"48px\"><defs /><svg width=\"100%\" x=\"0\" y=\"0px\"><defs /><text text-anchor=\"middle\" x=\"50%\" y=\"16px\">NN</text></svg></svg><line stroke=\"black\" x1=\"50%\" x2=\"50%\" y1=\"20px\" y2=\"48px\" /></svg><line stroke=\"black\" x1=\"50%\" x2=\"63.6142%\" y1=\"20px\" y2=\"48px\" /><svg width=\"0.732601%\" x=\"64.1026%\" y=\"48px\"><defs /><svg width=\"100%\" x=\"0\" y=\"0px\"><defs /><text text-anchor=\"middle\" x=\"50%\" y=\"16px\">that</text></svg><svg width=\"100%\" x=\"0%\" y=\"48px\"><defs /><svg width=\"100%\" x=\"0\" y=\"0px\"><defs /><text text-anchor=\"middle\" x=\"50%\" y=\"16px\">WDT</text></svg></svg><line stroke=\"black\" x1=\"50%\" x2=\"50%\" y1=\"20px\" y2=\"48px\" /></svg><line stroke=\"black\" x1=\"50%\" x2=\"64.4689%\" y1=\"20px\" y2=\"48px\" /><svg width=\"1.221%\" x=\"64.8352%\" y=\"48px\"><defs /><svg width=\"100%\" x=\"0\" y=\"0px\"><defs /><text text-anchor=\"middle\" x=\"50%\" y=\"16px\">analyzes</text></svg><svg width=\"100%\" x=\"0%\" y=\"48px\"><defs /><svg width=\"100%\" x=\"0\" y=\"0px\"><defs /><text text-anchor=\"middle\" x=\"50%\" y=\"16px\">VBZ</text></svg></svg><line stroke=\"black\" x1=\"50%\" x2=\"50%\" y1=\"20px\" y2=\"48px\" /></svg><line stroke=\"black\" x1=\"50%\" x2=\"65.4457%\" y1=\"20px\" y2=\"48px\" /><svg width=\"1.221%\" x=\"66.0562%\" y=\"48px\"><defs /><svg width=\"100%\" x=\"0\" y=\"0px\"><defs /><text text-anchor=\"middle\" x=\"50%\" y=\"16px\">customer</text></svg><svg width=\"100%\" x=\"0%\" y=\"48px\"><defs /><svg width=\"100%\" x=\"0\" y=\"0px\"><defs /><text text-anchor=\"middle\" x=\"50%\" y=\"16px\">NN</text></svg></svg><line stroke=\"black\" x1=\"50%\" x2=\"50%\" y1=\"20px\" y2=\"48px\" /></svg><line stroke=\"black\" x1=\"50%\" x2=\"66.6667%\" y1=\"20px\" y2=\"48px\" /><svg width=\"1.3431%\" x=\"67.2772%\" y=\"48px\"><defs /><svg width=\"100%\" x=\"0\" y=\"0px\"><defs /><text text-anchor=\"middle\" x=\"50%\" y=\"16px\">sentiment</text></svg><svg width=\"100%\" x=\"0%\" y=\"48px\"><defs /><svg width=\"100%\" x=\"0\" y=\"0px\"><defs /><text text-anchor=\"middle\" x=\"50%\" y=\"16px\">NN</text></svg></svg><line stroke=\"black\" x1=\"50%\" x2=\"50%\" y1=\"20px\" y2=\"48px\" /></svg><line stroke=\"black\" x1=\"50%\" x2=\"67.9487%\" y1=\"20px\" y2=\"48px\" /><svg width=\"0.732601%\" x=\"68.6203%\" y=\"48px\"><defs /><svg width=\"100%\" x=\"0\" y=\"0px\"><defs /><text text-anchor=\"middle\" x=\"50%\" y=\"16px\">from</text></svg><svg width=\"100%\" x=\"0%\" y=\"48px\"><defs /><svg width=\"100%\" x=\"0\" y=\"0px\"><defs /><text text-anchor=\"middle\" x=\"50%\" y=\"16px\">IN</text></svg></svg><line stroke=\"black\" x1=\"50%\" x2=\"50%\" y1=\"20px\" y2=\"48px\" /></svg><line stroke=\"black\" x1=\"50%\" x2=\"68.9866%\" y1=\"20px\" y2=\"48px\" /><svg width=\"0.976801%\" x=\"69.3529%\" y=\"48px\"><defs /><svg width=\"100%\" x=\"0\" y=\"0px\"><defs /><text text-anchor=\"middle\" x=\"50%\" y=\"16px\">emails</text></svg><svg width=\"100%\" x=\"0%\" y=\"48px\"><defs /><svg width=\"100%\" x=\"0\" y=\"0px\"><defs /><text text-anchor=\"middle\" x=\"50%\" y=\"16px\">NNS</text></svg></svg><line stroke=\"black\" x1=\"50%\" x2=\"50%\" y1=\"20px\" y2=\"48px\" /></svg><line stroke=\"black\" x1=\"50%\" x2=\"69.8413%\" y1=\"20px\" y2=\"48px\" /><svg width=\"0.610501%\" x=\"70.3297%\" y=\"48px\"><defs /><svg width=\"100%\" x=\"0\" y=\"0px\"><defs /><text text-anchor=\"middle\" x=\"50%\" y=\"16px\">and</text></svg><svg width=\"100%\" x=\"0%\" y=\"48px\"><defs /><svg width=\"100%\" x=\"0\" y=\"0px\"><defs /><text text-anchor=\"middle\" x=\"50%\" y=\"16px\">CC</text></svg></svg><line stroke=\"black\" x1=\"50%\" x2=\"50%\" y1=\"20px\" y2=\"48px\" /></svg><line stroke=\"black\" x1=\"50%\" x2=\"70.6349%\" y1=\"20px\" y2=\"48px\" /><svg width=\"1.0989%\" x=\"70.9402%\" y=\"48px\"><defs /><svg width=\"100%\" x=\"0\" y=\"0px\"><defs /><text text-anchor=\"middle\" x=\"50%\" y=\"16px\">reviews</text></svg><svg width=\"100%\" x=\"0%\" y=\"48px\"><defs /><svg width=\"100%\" x=\"0\" y=\"0px\"><defs /><text text-anchor=\"middle\" x=\"50%\" y=\"16px\">NNS</text></svg></svg><line stroke=\"black\" x1=\"50%\" x2=\"50%\" y1=\"20px\" y2=\"48px\" /></svg><line stroke=\"black\" x1=\"50%\" x2=\"71.4896%\" y1=\"20px\" y2=\"48px\" /><svg width=\"0.854701%\" x=\"72.0391%\" y=\"48px\"><defs /><svg width=\"100%\" x=\"0\" y=\"0px\"><defs /><text text-anchor=\"middle\" x=\"50%\" y=\"16px\">which</text></svg><svg width=\"100%\" x=\"0%\" y=\"48px\"><defs /><svg width=\"100%\" x=\"0\" y=\"0px\"><defs /><text text-anchor=\"middle\" x=\"50%\" y=\"16px\">WDT</text></svg></svg><line stroke=\"black\" x1=\"50%\" x2=\"50%\" y1=\"20px\" y2=\"48px\" /></svg><line stroke=\"black\" x1=\"50%\" x2=\"72.4664%\" y1=\"20px\" y2=\"48px\" /><svg width=\"0.610501%\" x=\"72.8938%\" y=\"48px\"><defs /><svg width=\"100%\" x=\"0\" y=\"0px\"><defs /><text text-anchor=\"middle\" x=\"50%\" y=\"16px\">has</text></svg><svg width=\"100%\" x=\"0%\" y=\"48px\"><defs /><svg width=\"100%\" x=\"0\" y=\"0px\"><defs /><text text-anchor=\"middle\" x=\"50%\" y=\"16px\">VBZ</text></svg></svg><line stroke=\"black\" x1=\"50%\" x2=\"50%\" y1=\"20px\" y2=\"48px\" /></svg><line stroke=\"black\" x1=\"50%\" x2=\"73.199%\" y1=\"20px\" y2=\"48px\" /><svg width=\"0.976801%\" x=\"73.5043%\" y=\"48px\"><defs /><svg width=\"100%\" x=\"0\" y=\"0px\"><defs /><text text-anchor=\"middle\" x=\"50%\" y=\"16px\">helped</text></svg><svg width=\"100%\" x=\"0%\" y=\"48px\"><defs /><svg width=\"100%\" x=\"0\" y=\"0px\"><defs /><text text-anchor=\"middle\" x=\"50%\" y=\"16px\">VBN</text></svg></svg><line stroke=\"black\" x1=\"50%\" x2=\"50%\" y1=\"20px\" y2=\"48px\" /></svg><line stroke=\"black\" x1=\"50%\" x2=\"73.9927%\" y1=\"20px\" y2=\"48px\" /><svg width=\"0.610501%\" x=\"74.4811%\" y=\"48px\"><defs /><svg width=\"100%\" x=\"0\" y=\"0px\"><defs /><text text-anchor=\"middle\" x=\"50%\" y=\"16px\">the</text></svg><svg width=\"100%\" x=\"0%\" y=\"48px\"><defs /><svg width=\"100%\" x=\"0\" y=\"0px\"><defs /><text text-anchor=\"middle\" x=\"50%\" y=\"16px\">DT</text></svg></svg><line stroke=\"black\" x1=\"50%\" x2=\"50%\" y1=\"20px\" y2=\"48px\" /></svg><line stroke=\"black\" x1=\"50%\" x2=\"74.7863%\" y1=\"20px\" y2=\"48px\" /><svg width=\"1.0989%\" x=\"75.0916%\" y=\"48px\"><defs /><svg width=\"100%\" x=\"0\" y=\"0px\"><defs /><text text-anchor=\"middle\" x=\"50%\" y=\"16px\">company</text></svg><svg width=\"100%\" x=\"0%\" y=\"48px\"><defs /><svg width=\"100%\" x=\"0\" y=\"0px\"><defs /><text text-anchor=\"middle\" x=\"50%\" y=\"16px\">NN</text></svg></svg><line stroke=\"black\" x1=\"50%\" x2=\"50%\" y1=\"20px\" y2=\"48px\" /></svg><line stroke=\"black\" x1=\"50%\" x2=\"75.641%\" y1=\"20px\" y2=\"48px\" /><svg width=\"1.0989%\" x=\"76.1905%\" y=\"48px\"><defs /><svg width=\"100%\" x=\"0\" y=\"0px\"><defs /><text text-anchor=\"middle\" x=\"50%\" y=\"16px\">improve</text></svg><svg width=\"100%\" x=\"0%\" y=\"48px\"><defs /><svg width=\"100%\" x=\"0\" y=\"0px\"><defs /><text text-anchor=\"middle\" x=\"50%\" y=\"16px\">VB</text></svg></svg><line stroke=\"black\" x1=\"50%\" x2=\"50%\" y1=\"20px\" y2=\"48px\" /></svg><line stroke=\"black\" x1=\"50%\" x2=\"76.7399%\" y1=\"20px\" y2=\"48px\" /><svg width=\"0.732601%\" x=\"77.2894%\" y=\"48px\"><defs /><svg width=\"100%\" x=\"0\" y=\"0px\"><defs /><text text-anchor=\"middle\" x=\"50%\" y=\"16px\">its</text></svg><svg width=\"100%\" x=\"0%\" y=\"48px\"><defs /><svg width=\"100%\" x=\"0\" y=\"0px\"><defs /><text text-anchor=\"middle\" x=\"50%\" y=\"16px\">PRP$</text></svg></svg><line stroke=\"black\" x1=\"50%\" x2=\"50%\" y1=\"20px\" y2=\"48px\" /></svg><line stroke=\"black\" x1=\"50%\" x2=\"77.6557%\" y1=\"20px\" y2=\"48px\" /><svg width=\"1.221%\" x=\"78.022%\" y=\"48px\"><defs /><svg width=\"100%\" x=\"0\" y=\"0px\"><defs /><text text-anchor=\"middle\" x=\"50%\" y=\"16px\">services</text></svg><svg width=\"100%\" x=\"0%\" y=\"48px\"><defs /><svg width=\"100%\" x=\"0\" y=\"0px\"><defs /><text text-anchor=\"middle\" x=\"50%\" y=\"16px\">NNS</text></svg></svg><line stroke=\"black\" x1=\"50%\" x2=\"50%\" y1=\"20px\" y2=\"48px\" /></svg><line stroke=\"black\" x1=\"50%\" x2=\"78.6325%\" y1=\"20px\" y2=\"48px\" /><svg width=\"0.610501%\" x=\"79.243%\" y=\"48px\"><defs /><svg width=\"100%\" x=\"0\" y=\"0px\"><defs /><text text-anchor=\"middle\" x=\"50%\" y=\"16px\">you</text></svg><svg width=\"100%\" x=\"0%\" y=\"48px\"><defs /><svg width=\"100%\" x=\"0\" y=\"0px\"><defs /><text text-anchor=\"middle\" x=\"50%\" y=\"16px\">PRP</text></svg></svg><line stroke=\"black\" x1=\"50%\" x2=\"50%\" y1=\"20px\" y2=\"48px\" /></svg><line stroke=\"black\" x1=\"50%\" x2=\"79.5482%\" y1=\"20px\" y2=\"48px\" /><svg width=\"0.610501%\" x=\"79.8535%\" y=\"48px\"><defs /><svg width=\"100%\" x=\"0\" y=\"0px\"><defs /><text text-anchor=\"middle\" x=\"50%\" y=\"16px\">can</text></svg><svg width=\"100%\" x=\"0%\" y=\"48px\"><defs /><svg width=\"100%\" x=\"0\" y=\"0px\"><defs /><text text-anchor=\"middle\" x=\"50%\" y=\"16px\">MD</text></svg></svg><line stroke=\"black\" x1=\"50%\" x2=\"50%\" y1=\"20px\" y2=\"48px\" /></svg><line stroke=\"black\" x1=\"50%\" x2=\"80.1587%\" y1=\"20px\" y2=\"48px\" /><svg width=\"0.854701%\" x=\"80.464%\" y=\"48px\"><defs /><svg width=\"100%\" x=\"0\" y=\"0px\"><defs /><text text-anchor=\"middle\" x=\"50%\" y=\"16px\">reach</text></svg><svg width=\"100%\" x=\"0%\" y=\"48px\"><defs /><svg width=\"100%\" x=\"0\" y=\"0px\"><defs /><text text-anchor=\"middle\" x=\"50%\" y=\"16px\">VB</text></svg></svg><line stroke=\"black\" x1=\"50%\" x2=\"50%\" y1=\"20px\" y2=\"48px\" /></svg><line stroke=\"black\" x1=\"50%\" x2=\"80.8913%\" y1=\"20px\" y2=\"48px\" /><svg width=\"0.610501%\" x=\"81.3187%\" y=\"48px\"><defs /><svg width=\"100%\" x=\"0\" y=\"0px\"><defs /><text text-anchor=\"middle\" x=\"50%\" y=\"16px\">me</text></svg><svg width=\"100%\" x=\"0%\" y=\"48px\"><defs /><svg width=\"100%\" x=\"0\" y=\"0px\"><defs /><text text-anchor=\"middle\" x=\"50%\" y=\"16px\">PRP</text></svg></svg><line stroke=\"black\" x1=\"50%\" x2=\"50%\" y1=\"20px\" y2=\"48px\" /></svg><line stroke=\"black\" x1=\"50%\" x2=\"81.6239%\" y1=\"20px\" y2=\"48px\" /><svg width=\"0.610501%\" x=\"81.9292%\" y=\"48px\"><defs /><svg width=\"100%\" x=\"0\" y=\"0px\"><defs /><text text-anchor=\"middle\" x=\"50%\" y=\"16px\">via</text></svg><svg width=\"100%\" x=\"0%\" y=\"48px\"><defs /><svg width=\"100%\" x=\"0\" y=\"0px\"><defs /><text text-anchor=\"middle\" x=\"50%\" y=\"16px\">IN</text></svg></svg><line stroke=\"black\" x1=\"50%\" x2=\"50%\" y1=\"20px\" y2=\"48px\" /></svg><line stroke=\"black\" x1=\"50%\" x2=\"82.2344%\" y1=\"20px\" y2=\"48px\" /><svg width=\"0.854701%\" x=\"82.5397%\" y=\"48px\"><defs /><svg width=\"100%\" x=\"0\" y=\"0px\"><defs /><text text-anchor=\"middle\" x=\"50%\" y=\"16px\">email</text></svg><svg width=\"100%\" x=\"0%\" y=\"48px\"><defs /><svg width=\"100%\" x=\"0\" y=\"0px\"><defs /><text text-anchor=\"middle\" x=\"50%\" y=\"16px\">NN</text></svg></svg><line stroke=\"black\" x1=\"50%\" x2=\"50%\" y1=\"20px\" y2=\"48px\" /></svg><line stroke=\"black\" x1=\"50%\" x2=\"82.967%\" y1=\"20px\" y2=\"48px\" /><svg width=\"0.4884%\" x=\"83.3944%\" y=\"48px\"><defs /><svg width=\"100%\" x=\"0\" y=\"0px\"><defs /><text text-anchor=\"middle\" x=\"50%\" y=\"16px\">at</text></svg><svg width=\"100%\" x=\"0%\" y=\"48px\"><defs /><svg width=\"100%\" x=\"0\" y=\"0px\"><defs /><text text-anchor=\"middle\" x=\"50%\" y=\"16px\">IN</text></svg></svg><line stroke=\"black\" x1=\"50%\" x2=\"50%\" y1=\"20px\" y2=\"48px\" /></svg><line stroke=\"black\" x1=\"50%\" x2=\"83.6386%\" y1=\"20px\" y2=\"48px\" /><svg width=\"2.442%\" x=\"83.8828%\" y=\"48px\"><defs /><svg width=\"100%\" x=\"0\" y=\"0px\"><defs /><text text-anchor=\"middle\" x=\"50%\" y=\"16px\">johndoetechcorpcom</text></svg><svg width=\"100%\" x=\"0%\" y=\"48px\"><defs /><svg width=\"100%\" x=\"0\" y=\"0px\"><defs /><text text-anchor=\"middle\" x=\"50%\" y=\"16px\">NN</text></svg></svg><line stroke=\"black\" x1=\"50%\" x2=\"50%\" y1=\"20px\" y2=\"48px\" /></svg><line stroke=\"black\" x1=\"50%\" x2=\"85.1038%\" y1=\"20px\" y2=\"48px\" /><svg width=\"0.610501%\" x=\"86.3248%\" y=\"48px\"><defs /><svg width=\"100%\" x=\"0\" y=\"0px\"><defs /><text text-anchor=\"middle\" x=\"50%\" y=\"16px\">for</text></svg><svg width=\"100%\" x=\"0%\" y=\"48px\"><defs /><svg width=\"100%\" x=\"0\" y=\"0px\"><defs /><text text-anchor=\"middle\" x=\"50%\" y=\"16px\">IN</text></svg></svg><line stroke=\"black\" x1=\"50%\" x2=\"50%\" y1=\"20px\" y2=\"48px\" /></svg><line stroke=\"black\" x1=\"50%\" x2=\"86.63%\" y1=\"20px\" y2=\"48px\" /><svg width=\"1.0989%\" x=\"86.9353%\" y=\"48px\"><defs /><svg width=\"100%\" x=\"0\" y=\"0px\"><defs /><text text-anchor=\"middle\" x=\"50%\" y=\"16px\">further</text></svg><svg width=\"100%\" x=\"0%\" y=\"48px\"><defs /><svg width=\"100%\" x=\"0\" y=\"0px\"><defs /><text text-anchor=\"middle\" x=\"50%\" y=\"16px\">JJ</text></svg></svg><line stroke=\"black\" x1=\"50%\" x2=\"50%\" y1=\"20px\" y2=\"48px\" /></svg><line stroke=\"black\" x1=\"50%\" x2=\"87.4847%\" y1=\"20px\" y2=\"48px\" /><svg width=\"1.3431%\" x=\"88.0342%\" y=\"48px\"><defs /><svg width=\"100%\" x=\"0\" y=\"0px\"><defs /><text text-anchor=\"middle\" x=\"50%\" y=\"16px\">inquiries</text></svg><svg width=\"100%\" x=\"0%\" y=\"48px\"><defs /><svg width=\"100%\" x=\"0\" y=\"0px\"><defs /><text text-anchor=\"middle\" x=\"50%\" y=\"16px\">NNS</text></svg></svg><line stroke=\"black\" x1=\"50%\" x2=\"50%\" y1=\"20px\" y2=\"48px\" /></svg><line stroke=\"black\" x1=\"50%\" x2=\"88.7057%\" y1=\"20px\" y2=\"48px\" /><svg width=\"0.610501%\" x=\"89.3773%\" y=\"48px\"><defs /><svg width=\"100%\" x=\"0\" y=\"0px\"><defs /><text text-anchor=\"middle\" x=\"50%\" y=\"16px\">im</text></svg><svg width=\"100%\" x=\"0%\" y=\"48px\"><defs /><svg width=\"100%\" x=\"0\" y=\"0px\"><defs /><text text-anchor=\"middle\" x=\"50%\" y=\"16px\">VBP</text></svg></svg><line stroke=\"black\" x1=\"50%\" x2=\"50%\" y1=\"20px\" y2=\"48px\" /></svg><line stroke=\"black\" x1=\"50%\" x2=\"89.6825%\" y1=\"20px\" y2=\"48px\" /><svg width=\"0.976801%\" x=\"89.9878%\" y=\"48px\"><defs /><svg width=\"100%\" x=\"0\" y=\"0px\"><defs /><text text-anchor=\"middle\" x=\"50%\" y=\"16px\">always</text></svg><svg width=\"100%\" x=\"0%\" y=\"48px\"><defs /><svg width=\"100%\" x=\"0\" y=\"0px\"><defs /><text text-anchor=\"middle\" x=\"50%\" y=\"16px\">RB</text></svg></svg><line stroke=\"black\" x1=\"50%\" x2=\"50%\" y1=\"20px\" y2=\"48px\" /></svg><line stroke=\"black\" x1=\"50%\" x2=\"90.4762%\" y1=\"20px\" y2=\"48px\" /><svg width=\"0.854701%\" x=\"90.9646%\" y=\"48px\"><defs /><svg width=\"100%\" x=\"0\" y=\"0px\"><defs /><text text-anchor=\"middle\" x=\"50%\" y=\"16px\">happy</text></svg><svg width=\"100%\" x=\"0%\" y=\"48px\"><defs /><svg width=\"100%\" x=\"0\" y=\"0px\"><defs /><text text-anchor=\"middle\" x=\"50%\" y=\"16px\">JJ</text></svg></svg><line stroke=\"black\" x1=\"50%\" x2=\"50%\" y1=\"20px\" y2=\"48px\" /></svg><line stroke=\"black\" x1=\"50%\" x2=\"91.3919%\" y1=\"20px\" y2=\"48px\" /><svg width=\"0.4884%\" x=\"91.8193%\" y=\"48px\"><defs /><svg width=\"100%\" x=\"0\" y=\"0px\"><defs /><text text-anchor=\"middle\" x=\"50%\" y=\"16px\">to</text></svg><svg width=\"100%\" x=\"0%\" y=\"48px\"><defs /><svg width=\"100%\" x=\"0\" y=\"0px\"><defs /><text text-anchor=\"middle\" x=\"50%\" y=\"16px\">TO</text></svg></svg><line stroke=\"black\" x1=\"50%\" x2=\"50%\" y1=\"20px\" y2=\"48px\" /></svg><line stroke=\"black\" x1=\"50%\" x2=\"92.0635%\" y1=\"20px\" y2=\"48px\" /><svg width=\"1.0989%\" x=\"92.3077%\" y=\"48px\"><defs /><svg width=\"100%\" x=\"0\" y=\"0px\"><defs /><text text-anchor=\"middle\" x=\"50%\" y=\"16px\">discuss</text></svg><svg width=\"100%\" x=\"0%\" y=\"48px\"><defs /><svg width=\"100%\" x=\"0\" y=\"0px\"><defs /><text text-anchor=\"middle\" x=\"50%\" y=\"16px\">VB</text></svg></svg><line stroke=\"black\" x1=\"50%\" x2=\"50%\" y1=\"20px\" y2=\"48px\" /></svg><line stroke=\"black\" x1=\"50%\" x2=\"92.8571%\" y1=\"20px\" y2=\"48px\" /><svg width=\"1.3431%\" x=\"93.4066%\" y=\"48px\"><defs /><svg width=\"100%\" x=\"0\" y=\"0px\"><defs /><text text-anchor=\"middle\" x=\"50%\" y=\"16px\">potential</text></svg><svg width=\"100%\" x=\"0%\" y=\"48px\"><defs /><svg width=\"100%\" x=\"0\" y=\"0px\"><defs /><text text-anchor=\"middle\" x=\"50%\" y=\"16px\">JJ</text></svg></svg><line stroke=\"black\" x1=\"50%\" x2=\"50%\" y1=\"20px\" y2=\"48px\" /></svg><line stroke=\"black\" x1=\"50%\" x2=\"94.0781%\" y1=\"20px\" y2=\"48px\" /><svg width=\"1.9536%\" x=\"94.7497%\" y=\"48px\"><defs /><svg width=\"100%\" x=\"0\" y=\"0px\"><defs /><text text-anchor=\"middle\" x=\"50%\" y=\"16px\">collaborations</text></svg><svg width=\"100%\" x=\"0%\" y=\"48px\"><defs /><svg width=\"100%\" x=\"0\" y=\"0px\"><defs /><text text-anchor=\"middle\" x=\"50%\" y=\"16px\">NNS</text></svg></svg><line stroke=\"black\" x1=\"50%\" x2=\"50%\" y1=\"20px\" y2=\"48px\" /></svg><line stroke=\"black\" x1=\"50%\" x2=\"95.7265%\" y1=\"20px\" y2=\"48px\" /><svg width=\"0.610501%\" x=\"96.7033%\" y=\"48px\"><defs /><svg width=\"100%\" x=\"0\" y=\"0px\"><defs /><text text-anchor=\"middle\" x=\"50%\" y=\"16px\">ai</text></svg><svg width=\"100%\" x=\"0%\" y=\"48px\"><defs /><svg width=\"100%\" x=\"0\" y=\"0px\"><defs /><text text-anchor=\"middle\" x=\"50%\" y=\"16px\">VBP</text></svg></svg><line stroke=\"black\" x1=\"50%\" x2=\"50%\" y1=\"20px\" y2=\"48px\" /></svg><line stroke=\"black\" x1=\"50%\" x2=\"97.0085%\" y1=\"20px\" y2=\"48px\" /><svg width=\"2.0757%\" x=\"97.3138%\" y=\"48px\"><defs /><svg width=\"100%\" x=\"0\" y=\"0px\"><defs /><text text-anchor=\"middle\" x=\"50%\" y=\"16px\">machinelearning</text></svg><svg width=\"100%\" x=\"0%\" y=\"48px\"><defs /><svg width=\"100%\" x=\"0\" y=\"0px\"><defs /><text text-anchor=\"middle\" x=\"50%\" y=\"16px\">VBG</text></svg></svg><line stroke=\"black\" x1=\"50%\" x2=\"50%\" y1=\"20px\" y2=\"48px\" /></svg><line stroke=\"black\" x1=\"50%\" x2=\"98.3516%\" y1=\"20px\" y2=\"48px\" /><svg width=\"0.610501%\" x=\"99.3895%\" y=\"48px\"><defs /><svg width=\"100%\" x=\"0\" y=\"0px\"><defs /><text text-anchor=\"middle\" x=\"50%\" y=\"16px\">nlp</text></svg><svg width=\"100%\" x=\"0%\" y=\"48px\"><defs /><svg width=\"100%\" x=\"0\" y=\"0px\"><defs /><text text-anchor=\"middle\" x=\"50%\" y=\"16px\">NN</text></svg></svg><line stroke=\"black\" x1=\"50%\" x2=\"50%\" y1=\"20px\" y2=\"48px\" /></svg><line stroke=\"black\" x1=\"50%\" x2=\"99.6947%\" y1=\"20px\" y2=\"48px\" /></svg>"
          },
          "metadata": {},
          "execution_count": 31
        }
      ]
    }
  ]
}